{
 "cells": [
  {
   "cell_type": "markdown",
   "metadata": {},
   "source": [
    "# Financial Planning with APIs and Simulations\n",
    "\n",
    "In this Challenge, you’ll create two financial analysis tools by using a single Jupyter notebook:\n",
    "\n",
    "Part 1: A financial planner for emergencies. The members will be able to use this tool to visualize their current savings. The members can then determine if they have enough reserves for an emergency fund.\n",
    "\n",
    "Part 2: A financial planner for retirement. This tool will forecast the performance of their retirement portfolio in 30 years. To do this, the tool will make an Alpaca API call via the Alpaca SDK to get historical price data for use in Monte Carlo simulations.\n",
    "\n",
    "You’ll use the information from the Monte Carlo simulation to answer questions about the portfolio in your Jupyter notebook.\n",
    "\n"
   ]
  },
  {
   "cell_type": "code",
   "execution_count": 62,
   "metadata": {},
   "outputs": [],
   "source": [
    "# Import the required libraries and dependencies\n",
    "# These are all the relevant dependencies and libraries that are imported to make the exercise work. The load_dotenv helps to import the \n",
    "# .env file that is in this folder. The alpaca_trade_api helps with the api call to alpaca to get up to date data. The MCForecastTools is alos a file\n",
    "# in this folder that helps with the Monte Carlo Simulation. The reguests is a library that helps to make an api call and the json library helps\n",
    "# to import the data from the aapi call and presents the data in a readable fashion.\n",
    "import os\n",
    "import requests\n",
    "import json\n",
    "import pandas as pd\n",
    "from dotenv import load_dotenv\n",
    "import alpaca_trade_api as tradeapi\n",
    "from MCForecastTools import MCSimulation\n",
    "\n",
    "%matplotlib inline"
   ]
  },
  {
   "cell_type": "code",
   "execution_count": 63,
   "metadata": {},
   "outputs": [
    {
     "data": {
      "text/plain": [
       "True"
      ]
     },
     "execution_count": 63,
     "metadata": {},
     "output_type": "execute_result"
    }
   ],
   "source": [
    "# Load the environment variables from the .env file\n",
    "# by calling the load_dotenv function\n",
    "# Here you can see I am loading the dotenv file, this .env file is where my API Key and Secret Key are housed. Using this function is a \n",
    "# way to keep my api key safe on Github.\n",
    "\n",
    "load_dotenv()"
   ]
  },
  {
   "cell_type": "markdown",
   "metadata": {},
   "source": [
    "## Part 1: Create a Financial Planner for Emergencies"
   ]
  },
  {
   "cell_type": "markdown",
   "metadata": {},
   "source": [
    "### Evaluate the Cryptocurrency Wallet by Using the Requests Library\n",
    "\n",
    "In this section, you’ll determine the current value of a member’s cryptocurrency wallet. You’ll collect the current prices for the Bitcoin and Ethereum cryptocurrencies by using the Python Requests library. For the prototype, you’ll assume that the member holds the 1.2 Bitcoins (BTC) and 5.3 Ethereum coins (ETH). To do all this, complete the following steps:\n",
    "\n",
    "1. Create a variable named `monthly_income`, and set its value to `12000`.\n",
    "\n",
    "2. Use the Requests library to get the current price (in US dollars) of Bitcoin (BTC) and Ethereum (ETH) by using the API endpoints that the starter code supplies.\n",
    "\n",
    "3. Navigate the JSON response object to access the current price of each coin, and store each in a variable.\n",
    "\n",
    "    > **Hint** Note the specific identifier for each cryptocurrency in the API JSON response. The Bitcoin identifier is `1`, and the Ethereum identifier is `1027`.\n",
    "\n",
    "4. Calculate the value, in US dollars, of the current amount of each cryptocurrency and of the entire cryptocurrency wallet.\n",
    "\n"
   ]
  },
  {
   "cell_type": "code",
   "execution_count": 64,
   "metadata": {},
   "outputs": [],
   "source": [
    "# The current number of coins for each cryptocurrency asset held in the portfolio.\n",
    "# Here I am giving values to the variables btc_coins and eth_coins.\n",
    "\n",
    "btc_coins = 1.2\n",
    "eth_coins = 5.3"
   ]
  },
  {
   "cell_type": "markdown",
   "metadata": {},
   "source": [
    "#### Step 1: Create a variable named `monthly_income`, and set its value to `12000`."
   ]
  },
  {
   "cell_type": "code",
   "execution_count": 65,
   "metadata": {},
   "outputs": [],
   "source": [
    "# The monthly amount for the member's household income\n",
    "# Here I am giving a value to a variable named monthly_income.\n",
    "\n",
    "monthly_income=12000"
   ]
  },
  {
   "cell_type": "markdown",
   "metadata": {},
   "source": [
    "#### Review the endpoint URLs for the API calls to Free Crypto API in order to get the current pricing information for both BTC and ETH."
   ]
  },
  {
   "cell_type": "code",
   "execution_count": 66,
   "metadata": {},
   "outputs": [],
   "source": [
    "# The Free Crypto API Call endpoint URLs for the held cryptocurrency assets\n",
    "# Here I am assigning these url's to these two variables so that I can call the url's without having to type it several times throughout the\n",
    "# code. I do this because I am lazy. Also its efficient.\n",
    "\n",
    "btc_url = \"https://api.alternative.me/v2/ticker/Bitcoin/?convert=USD\"\n",
    "eth_url = \"https://api.alternative.me/v2/ticker/Ethereum/?convert=USD\""
   ]
  },
  {
   "cell_type": "markdown",
   "metadata": {},
   "source": [
    "#### Step 2. Use the Requests library to get the current price (in US dollars) of Bitcoin (BTC) and Ethereum (ETH) by using the API endpoints that the starter code supplied."
   ]
  },
  {
   "cell_type": "code",
   "execution_count": 67,
   "metadata": {},
   "outputs": [
    {
     "name": "stdout",
     "output_type": "stream",
     "text": [
      "{\n",
      "    \"data\": {\n",
      "        \"1\": {\n",
      "            \"circulating_supply\": 18854431,\n",
      "            \"id\": 1,\n",
      "            \"last_updated\": 1635209354,\n",
      "            \"max_supply\": 21000000,\n",
      "            \"name\": \"Bitcoin\",\n",
      "            \"quotes\": {\n",
      "                \"USD\": {\n",
      "                    \"market_cap\": 1192131994833,\n",
      "                    \"percent_change_1h\": 0.0375212766474652,\n",
      "                    \"percent_change_24h\": 2.61581849609191,\n",
      "                    \"percent_change_7d\": 2.02603017746222,\n",
      "                    \"percentage_change_1h\": 0.0375212766474652,\n",
      "                    \"percentage_change_24h\": 2.61581849609191,\n",
      "                    \"percentage_change_7d\": 2.02603017746222,\n",
      "                    \"price\": 63274.0,\n",
      "                    \"volume_24h\": 31620240016\n",
      "                }\n",
      "            },\n",
      "            \"rank\": 1,\n",
      "            \"symbol\": \"BTC\",\n",
      "            \"total_supply\": 18854431,\n",
      "            \"website_slug\": \"bitcoin\"\n",
      "        }\n",
      "    },\n",
      "    \"metadata\": {\n",
      "        \"error\": null,\n",
      "        \"num_cryptocurrencies\": 3105,\n",
      "        \"timestamp\": 1635209354\n",
      "    }\n",
      "}\n"
     ]
    }
   ],
   "source": [
    "# Using the Python requests library, make an API call to access the current price of BTC\n",
    "# Here I am making the request for the json data and passing the btc_url to the request command. This is how we get the data we are after.\n",
    "btc_response = requests.get(btc_url).json()\n",
    "\n",
    "# Use the json.dumps function to review the response data from the API call\n",
    "# Use the indent and sort_keys parameters to make the response object readable\n",
    "# This is the command to print the json data in a readable fashion. \n",
    "\n",
    "print(json.dumps(btc_response, indent=4, sort_keys=True))"
   ]
  },
  {
   "cell_type": "code",
   "execution_count": 68,
   "metadata": {},
   "outputs": [
    {
     "name": "stdout",
     "output_type": "stream",
     "text": [
      "{\n",
      "    \"data\": {\n",
      "        \"1027\": {\n",
      "            \"circulating_supply\": 118077176,\n",
      "            \"id\": 1027,\n",
      "            \"last_updated\": 1635209327,\n",
      "            \"max_supply\": 0,\n",
      "            \"name\": \"Ethereum\",\n",
      "            \"quotes\": {\n",
      "                \"USD\": {\n",
      "                    \"market_cap\": 499491060520,\n",
      "                    \"percent_change_1h\": 0.513617680943209,\n",
      "                    \"percent_change_24h\": 2.73149505222375,\n",
      "                    \"percent_change_7d\": 13.2045208286442,\n",
      "                    \"percentage_change_1h\": 0.513617680943209,\n",
      "                    \"percentage_change_24h\": 2.73149505222375,\n",
      "                    \"percentage_change_7d\": 13.2045208286442,\n",
      "                    \"price\": 4248.13,\n",
      "                    \"volume_24h\": 17156148693\n",
      "                }\n",
      "            },\n",
      "            \"rank\": 2,\n",
      "            \"symbol\": \"ETH\",\n",
      "            \"total_supply\": 118077176,\n",
      "            \"website_slug\": \"ethereum\"\n",
      "        }\n",
      "    },\n",
      "    \"metadata\": {\n",
      "        \"error\": null,\n",
      "        \"num_cryptocurrencies\": 3105,\n",
      "        \"timestamp\": 1635209327\n",
      "    }\n",
      "}\n"
     ]
    }
   ],
   "source": [
    "# Using the Python requests library, make an API call to access the current price ETH\n",
    "# Again, here is the command to request the data from the api and we are passing the eth_url as the argument.\n",
    "eth_response = requests.get(eth_url).json()\n",
    "\n",
    "# Use the json.dumps function to review the response data from the API call\n",
    "# Use the indent and sort_keys parameters to make the response object readable\n",
    "# commanding that the json data is printed in a readable fashion.\n",
    "\n",
    "print(json.dumps(eth_response, indent=4, sort_keys=True))"
   ]
  },
  {
   "cell_type": "markdown",
   "metadata": {},
   "source": [
    "#### Step 3: Navigate the JSON response object to access the current price of each coin, and store each in a variable."
   ]
  },
  {
   "cell_type": "code",
   "execution_count": 69,
   "metadata": {},
   "outputs": [
    {
     "name": "stdout",
     "output_type": "stream",
     "text": [
      " The price of bitcoin is $63274.0\n"
     ]
    }
   ],
   "source": [
    "# Navigate the BTC response object to access the current price of BTC\n",
    "# Here we are assigning the data that is in the dictionary in the json data to btc_price. we retreived the btc price by telling pandas that it\n",
    "# is under 'data', then under '1' then under 'quotes' then under 'USD' then 'price'.\n",
    "\n",
    "btc_price = btc_response[\"data\"][\"1\"][\"quotes\"][\"USD\"][\"price\"]\n",
    "# Print the current price of BTC\n",
    "# here we print it as an f'string just to make it look sharp.\n",
    "print(f\" The price of bitcoin is ${btc_price}\")"
   ]
  },
  {
   "cell_type": "code",
   "execution_count": 70,
   "metadata": {},
   "outputs": [
    {
     "name": "stdout",
     "output_type": "stream",
     "text": [
      " The price of ethereum is $4248.13\n"
     ]
    }
   ],
   "source": [
    "# Navigate the BTC response object to access the current price of ETH\n",
    "# Here we are assigning the data that is in the dictionary in the json data to eth_price. we retreived the btc price by telling pandas that it\n",
    "# is under 'data', then under '1027' then under 'quotes' then under 'USD' then 'price'.\n",
    "\n",
    "eth_price = eth_response[\"data\"][\"1027\"][\"quotes\"][\"USD\"][\"price\"]\n",
    "\n",
    "# Print the current price of ETH\n",
    "# here we print it as an f'string just to make it look sharp.\n",
    "print(f\" The price of ethereum is ${eth_price}\")"
   ]
  },
  {
   "cell_type": "markdown",
   "metadata": {},
   "source": [
    "### Step 4: Calculate the value, in US dollars, of the current amount of each cryptocurrency and of the entire cryptocurrency wallet."
   ]
  },
  {
   "cell_type": "code",
   "execution_count": 71,
   "metadata": {},
   "outputs": [
    {
     "name": "stdout",
     "output_type": "stream",
     "text": [
      " This wallet currently has $75928.80 in USD. \n"
     ]
    }
   ],
   "source": [
    "# Compute the current value of the BTC holding \n",
    "# Here we are passing the current btc price times 1.2 to the variable btc_value.\n",
    "btc_value = btc_price*1.2\n",
    "\n",
    "# Print current value of your holding in BTC\n",
    "print(f\" This wallet currently has ${btc_value:0.2f} in USD. \")\n"
   ]
  },
  {
   "cell_type": "code",
   "execution_count": 72,
   "metadata": {},
   "outputs": [
    {
     "name": "stdout",
     "output_type": "stream",
     "text": [
      " This wallet currently has $22515.09 in USD.\n"
     ]
    }
   ],
   "source": [
    "# Compute the current value of the ETH holding \n",
    "# Here we are passing the eth price times 5.3 to the variable eth_value.\n",
    "eth_value = eth_price*5.3\n",
    "\n",
    "# Print current value of your holding in ETH\n",
    "print(f\" This wallet currently has ${eth_value:0.2f} in USD.\")\n"
   ]
  },
  {
   "cell_type": "code",
   "execution_count": 73,
   "metadata": {},
   "outputs": [
    {
     "name": "stdout",
     "output_type": "stream",
     "text": [
      " The wallet currently has $98443.89 in USD.\n"
     ]
    }
   ],
   "source": [
    "# Compute the total value of the cryptocurrency wallet\n",
    "# Add the value of the BTC holding to the value of the ETH holding\n",
    "# Here we are just adding the value of the bitcoin to the ethereum and assigning it to total_crypto_wallet.\n",
    "total_crypto_wallet = btc_value + eth_value\n",
    "\n",
    "# Print current cryptocurrency wallet balance\n",
    "print(f\" The wallet currently has ${total_crypto_wallet:0.2f} in USD.\")\n"
   ]
  },
  {
   "cell_type": "markdown",
   "metadata": {},
   "source": [
    "### Evaluate the Stock and Bond Holdings by Using the Alpaca SDK\n",
    "\n",
    "In this section, you’ll determine the current value of a member’s stock and bond holdings. You’ll make an API call to Alpaca via the Alpaca SDK to get the current closing prices of the SPDR S&P 500 ETF Trust (ticker: SPY) and of the iShares Core US Aggregate Bond ETF (ticker: AGG). For the prototype, assume that the member holds 110 shares of SPY, which represents the stock portion of their portfolio, and 200 shares of AGG, which represents the bond portion. To do all this, complete the following steps:\n",
    "\n",
    "1. In the `Starter_Code` folder, create an environment file (`.env`) to store the values of your Alpaca API key and Alpaca secret key.\n",
    "\n",
    "2. Set the variables for the Alpaca API and secret keys. Using the Alpaca SDK, create the Alpaca `tradeapi.REST` object. In this object, include the parameters for the Alpaca API key, the secret key, and the version number.\n",
    "\n",
    "3. Set the following parameters for the Alpaca API call:\n",
    "\n",
    "    - `tickers`: Use the tickers for the member’s stock and bond holdings.\n",
    "\n",
    "    - `timeframe`: Use a time frame of one day.\n",
    "\n",
    "    - `start_date` and `end_date`: Use the same date for these parameters, and format them with the date of the previous weekday (or `2020-08-07`). This is because you want the one closing price for the most-recent trading day.\n",
    "\n",
    "4. Get the current closing prices for `SPY` and `AGG` by using the Alpaca `get_barset` function. Format the response as a Pandas DataFrame by including the `df` property at the end of the `get_barset` function.\n",
    "\n",
    "5. Navigating the Alpaca response DataFrame, select the `SPY` and `AGG` closing prices, and store them as variables.\n",
    "\n",
    "6. Calculate the value, in US dollars, of the current amount of shares in each of the stock and bond portions of the portfolio, and print the results.\n"
   ]
  },
  {
   "cell_type": "markdown",
   "metadata": {},
   "source": [
    "#### Review the total number of shares held in both (SPY) and (AGG)."
   ]
  },
  {
   "cell_type": "code",
   "execution_count": 74,
   "metadata": {},
   "outputs": [],
   "source": [
    "# Current amount of shares held in both the stock (SPY) and bond (AGG) portion of the portfolio.\n",
    "# Here we are assigning the number of shares to the specific stocks and bonds.\n",
    "spy_shares = 110\n",
    "agg_shares = 200\n"
   ]
  },
  {
   "cell_type": "markdown",
   "metadata": {},
   "source": [
    "#### Step 1: In the `Starter_Code` folder, create an environment file (`.env`) to store the values of your Alpaca API key and Alpaca secret key."
   ]
  },
  {
   "cell_type": "markdown",
   "metadata": {},
   "source": [
    "#### Step 2: Set the variables for the Alpaca API and secret keys. Using the Alpaca SDK, create the Alpaca `tradeapi.REST` object. In this object, include the parameters for the Alpaca API key, the secret key, and the version number."
   ]
  },
  {
   "cell_type": "code",
   "execution_count": 75,
   "metadata": {},
   "outputs": [],
   "source": [
    "# Set the variables for the Alpaca API and secret keys\n",
    "# Here we are setting the variables alpaca_api_key to the function of getting the keys.\n",
    "alpaca_api_key= os.getenv(\"ALPACA_API_KEY\")\n",
    "alpaca_secret_key= os.getenv(\"ALPACA_SECRET_KEY\")\n",
    "\n",
    "# Create the Alpaca tradeapi.REST object\n",
    "# And here we are making the REST object.\n",
    "alpaca= tradeapi.REST(alpaca_api_key, alpaca_secret_key, api_version=\"v2\")\n"
   ]
  },
  {
   "cell_type": "markdown",
   "metadata": {},
   "source": [
    "#### Step 3: Set the following parameters for the Alpaca API call:\n",
    "\n",
    "- `tickers`: Use the tickers for the member’s stock and bond holdings.\n",
    "\n",
    "- `timeframe`: Use a time frame of one day.\n",
    "\n",
    "- `start_date` and `end_date`: Use the same date for these parameters, and format them with the date of the previous weekday (or `2020-08-07`). This is because you want the one closing price for the most-recent trading day.\n"
   ]
  },
  {
   "cell_type": "code",
   "execution_count": 76,
   "metadata": {},
   "outputs": [],
   "source": [
    "# Set the tickers for both the bond and stock portion of the portfolio\n",
    "# This is just passing a list of tickers to a variable.\n",
    "tickers=[\"SPY\", \"AGG\"]\n",
    "\n",
    "# Set timeframe to 1D \n",
    "# This is the command of setting the timeframe for the api call. We are asking to get information on the tickers 1 x per day for the time period\n",
    "# below.\n",
    "timeframe= \"1D\"\n",
    "\n",
    "# Format current date as ISO format\n",
    "# Set both the start and end date at the date of your prior weekday \n",
    "# This will give you the closing price of the previous trading day\n",
    "# Alternatively you can use a start and end date of 2020-08-07\n",
    "# Ok here we are setting the parameters of the api call to start and stop on the dates below. and we are formating it to the American format.\n",
    "start_date= pd.Timestamp(\"2020-08-07\", tz=\"America/New_York\").isoformat()\n",
    "end_date = pd.Timestamp(\"2020-08-07\", tz=\"America/New_York\").isoformat()\n"
   ]
  },
  {
   "cell_type": "markdown",
   "metadata": {},
   "source": [
    "#### Step 4: Get the current closing prices for `SPY` and `AGG` by using the Alpaca `get_barset` function. Format the response as a Pandas DataFrame by including the `df` property at the end of the `get_barset` function."
   ]
  },
  {
   "cell_type": "code",
   "execution_count": 78,
   "metadata": {},
   "outputs": [
    {
     "data": {
      "text/html": [
       "<div>\n",
       "<style scoped>\n",
       "    .dataframe tbody tr th:only-of-type {\n",
       "        vertical-align: middle;\n",
       "    }\n",
       "\n",
       "    .dataframe tbody tr th {\n",
       "        vertical-align: top;\n",
       "    }\n",
       "\n",
       "    .dataframe thead tr th {\n",
       "        text-align: left;\n",
       "    }\n",
       "\n",
       "    .dataframe thead tr:last-of-type th {\n",
       "        text-align: right;\n",
       "    }\n",
       "</style>\n",
       "<table border=\"1\" class=\"dataframe\">\n",
       "  <thead>\n",
       "    <tr>\n",
       "      <th></th>\n",
       "      <th colspan=\"5\" halign=\"left\">AGG</th>\n",
       "      <th colspan=\"5\" halign=\"left\">SPY</th>\n",
       "    </tr>\n",
       "    <tr>\n",
       "      <th></th>\n",
       "      <th>open</th>\n",
       "      <th>high</th>\n",
       "      <th>low</th>\n",
       "      <th>close</th>\n",
       "      <th>volume</th>\n",
       "      <th>open</th>\n",
       "      <th>high</th>\n",
       "      <th>low</th>\n",
       "      <th>close</th>\n",
       "      <th>volume</th>\n",
       "    </tr>\n",
       "    <tr>\n",
       "      <th>time</th>\n",
       "      <th></th>\n",
       "      <th></th>\n",
       "      <th></th>\n",
       "      <th></th>\n",
       "      <th></th>\n",
       "      <th></th>\n",
       "      <th></th>\n",
       "      <th></th>\n",
       "      <th></th>\n",
       "      <th></th>\n",
       "    </tr>\n",
       "  </thead>\n",
       "  <tbody>\n",
       "    <tr>\n",
       "      <th>2020-08-07 00:00:00-04:00</th>\n",
       "      <td>119.66</td>\n",
       "      <td>119.73</td>\n",
       "      <td>119.395</td>\n",
       "      <td>119.445</td>\n",
       "      <td>8830420</td>\n",
       "      <td>333.28</td>\n",
       "      <td>334.88</td>\n",
       "      <td>332.3</td>\n",
       "      <td>334.55</td>\n",
       "      <td>98710236</td>\n",
       "    </tr>\n",
       "  </tbody>\n",
       "</table>\n",
       "</div>"
      ],
      "text/plain": [
       "                              AGG                                        SPY  \\\n",
       "                             open    high      low    close   volume    open   \n",
       "time                                                                           \n",
       "2020-08-07 00:00:00-04:00  119.66  119.73  119.395  119.445  8830420  333.28   \n",
       "\n",
       "                                                            \n",
       "                             high    low   close    volume  \n",
       "time                                                        \n",
       "2020-08-07 00:00:00-04:00  334.88  332.3  334.55  98710236  "
      ]
     },
     "execution_count": 78,
     "metadata": {},
     "output_type": "execute_result"
    }
   ],
   "source": [
    "# Use the Alpaca get_barset function to get current closing prices the portfolio\n",
    "# Be sure to set the `df` property after the function to format the response object as a DataFrame\n",
    "# Here we make the actual call to the api and request the data that was outlined in the parameters we passed earlier.\n",
    "prices_df= alpaca.get_barset(tickers,\n",
    "                             timeframe,\n",
    "                             start=start_date,\n",
    "                             end=end_date).df\n",
    "                             \n",
    "\n",
    "# Review the first 5 rows of the Alpaca DataFrame\n",
    "# Just reviewing the data we recieved.\n",
    "prices_df.head()\n"
   ]
  },
  {
   "cell_type": "markdown",
   "metadata": {},
   "source": [
    "#### Step 5: Navigating the Alpaca response DataFrame, select the `SPY` and `AGG` closing prices, and store them as variables."
   ]
  },
  {
   "cell_type": "code",
   "execution_count": 79,
   "metadata": {},
   "outputs": [
    {
     "name": "stdout",
     "output_type": "stream",
     "text": [
      "119.445\n"
     ]
    }
   ],
   "source": [
    "# Access the closing price for AGG from the Alpaca DataFrame\n",
    "# Converting the value to a floating point number\n",
    "# Here we are saying just keep the closing price for AGG.\n",
    "agg_close_price = float(prices_df[\"AGG\"][\"close\"])\n",
    "\n",
    "# Print the AGG closing price\n",
    "print(agg_close_price)\n"
   ]
  },
  {
   "cell_type": "code",
   "execution_count": 80,
   "metadata": {},
   "outputs": [
    {
     "name": "stdout",
     "output_type": "stream",
     "text": [
      "334.55\n"
     ]
    }
   ],
   "source": [
    "# Access the closing price for SPY from the Alpaca DataFrame\n",
    "# Converting the value to a floating point number\n",
    "# Here we are saying just keep the closing price for SPY.\n",
    "spy_close_price = float(prices_df[\"SPY\"][\"close\"])\n",
    "\n",
    "# Print the SPY closing price\n",
    "print(spy_close_price)"
   ]
  },
  {
   "cell_type": "markdown",
   "metadata": {},
   "source": [
    "#### Step 6: Calculate the value, in US dollars, of the current amount of shares in each of the stock and bond portions of the portfolio, and print the results."
   ]
  },
  {
   "cell_type": "code",
   "execution_count": 81,
   "metadata": {},
   "outputs": [
    {
     "name": "stdout",
     "output_type": "stream",
     "text": [
      " The total value of AGG shares in this portfolio is $23889.0.\n"
     ]
    }
   ],
   "source": [
    "# Calculate the current value of the bond portion of the portfolio\n",
    "# Here we are setting a new variable to equal 200 times the current price of AGG, because we have 200 shares.\n",
    "agg_value = agg_close_price * 200\n",
    "\n",
    "# Print the current value of the bond portfolio\n",
    "# This is a fancy way of printing a statement and passing a previously set value into the statement.\n",
    "print(f\" The total value of AGG shares in this portfolio is ${agg_value}.\")\n"
   ]
  },
  {
   "cell_type": "code",
   "execution_count": 82,
   "metadata": {},
   "outputs": [
    {
     "name": "stdout",
     "output_type": "stream",
     "text": [
      " The total value of SPY shares in this portfolio is $36800.5.\n"
     ]
    }
   ],
   "source": [
    "# Calculate the current value of the stock portion of the portfolio\n",
    "# Here we are setting a new variable to equal 110 times the current price because thats how many shares we have.\n",
    "spy_value = spy_close_price *110\n",
    "\n",
    "# Print the current value of the stock portfolio\n",
    "# This is a fancy way of printing a statement and passing a previously set value into the statement.\n",
    "print(f\" The total value of SPY shares in this portfolio is ${spy_value}.\")\n"
   ]
  },
  {
   "cell_type": "code",
   "execution_count": 83,
   "metadata": {},
   "outputs": [
    {
     "name": "stdout",
     "output_type": "stream",
     "text": [
      " The total value of the stock/bond portion of portfolio is $60689.5.\n"
     ]
    }
   ],
   "source": [
    "# Calculate the total value of the stock and bond portion of the portfolio\n",
    "# Here we are just adding the value of two variables together and assigning them to a new value.\n",
    "total_stocks_bonds = agg_value + spy_value\n",
    "\n",
    "# Print the current balance of the stock and bond portion of the portfolio\n",
    "# This is a fancy way of printing a statement and passing a previously set value into the statement.\n",
    "print(f\" The total value of the stock/bond portion of portfolio is ${total_stocks_bonds}.\")\n"
   ]
  },
  {
   "cell_type": "code",
   "execution_count": 84,
   "metadata": {},
   "outputs": [
    {
     "name": "stdout",
     "output_type": "stream",
     "text": [
      " The total portfolio is $159133.39 USD.\n"
     ]
    }
   ],
   "source": [
    "# Calculate the total value of the member's entire savings portfolio\n",
    "# Add the value of the cryptocurrency walled to the value of the total stocks and bonds\n",
    "# Here we are just adding the value of two variables together and assigning them to a new value.\n",
    "total_portfolio = total_stocks_bonds + total_crypto_wallet\n",
    "\n",
    "# Print current cryptocurrency wallet balance\n",
    "# This is a fancy way of printing a statement and passing a previously set value into the statement.\n",
    "print(f\" The total portfolio is ${(total_portfolio):0.2f} USD.\")\n"
   ]
  },
  {
   "cell_type": "markdown",
   "metadata": {},
   "source": [
    "### Evaluate the Emergency Fund\n",
    "\n",
    "In this section, you’ll use the valuations for the cryptocurrency wallet and for the stock and bond portions of the portfolio to determine if the credit union member has enough savings to build an emergency fund into their financial plan. To do this, complete the following steps:\n",
    "\n",
    "1. Create a Python list named `savings_data` that has two elements. The first element contains the total value of the cryptocurrency wallet. The second element contains the total value of the stock and bond portions of the portfolio.\n",
    "\n",
    "2. Use the `savings_data` list to create a Pandas DataFrame named `savings_df`, and then display this DataFrame. The function to create the DataFrame should take the following three parameters:\n",
    "\n",
    "    - `savings_data`: Use the list that you just created.\n",
    "\n",
    "    - `columns`: Set this parameter equal to a Python list with a single value called `amount`.\n",
    "\n",
    "    - `index`: Set this parameter equal to a Python list with the values of `crypto` and `stock/bond`.\n",
    "\n",
    "3. Use the `savings_df` DataFrame to plot a pie chart that visualizes the composition of the member’s portfolio. The y-axis of the pie chart uses `amount`. Be sure to add a title.\n",
    "\n",
    "4. Using Python, determine if the current portfolio has enough to create an emergency fund as part of the member’s financial plan. Ideally, an emergency fund should equal to three times the member’s monthly income. To do this, implement the following steps:\n",
    "\n",
    "    1. Create a variable named `emergency_fund_value`, and set it equal to three times the value of the member’s `monthly_income` of $12000. (You set this earlier in Part 1).\n",
    "\n",
    "    2. Create a series of three if statements to determine if the member’s total portfolio is large enough to fund the emergency portfolio:\n",
    "\n",
    "        1. If the total portfolio value is greater than the emergency fund value, display a message congratulating the member for having enough money in this fund.\n",
    "\n",
    "        2. Else if the total portfolio value is equal to the emergency fund value, display a message congratulating the member on reaching this important financial goal.\n",
    "\n",
    "        3. Else the total portfolio is less than the emergency fund value, so display a message showing how many dollars away the member is from reaching the goal. (Subtract the total portfolio value from the emergency fund value.)\n"
   ]
  },
  {
   "cell_type": "markdown",
   "metadata": {},
   "source": [
    "#### Step 1: Create a Python list named `savings_data` that has two elements. The first element contains the total value of the cryptocurrency wallet. The second element contains the total value of the stock and bond portions of the portfolio."
   ]
  },
  {
   "cell_type": "code",
   "execution_count": 85,
   "metadata": {},
   "outputs": [
    {
     "data": {
      "text/plain": [
       "[98443.889, 60689.5]"
      ]
     },
     "execution_count": 85,
     "metadata": {},
     "output_type": "execute_result"
    }
   ],
   "source": [
    "# Consolidate financial assets data into a Python list\n",
    "# Ok here we are making a list with two previously set values and passing it to a new variable.\n",
    "savings_data = [total_crypto_wallet, total_stocks_bonds]\n",
    "# Review the Python list savings_data\n",
    "savings_data\n",
    "    "
   ]
  },
  {
   "cell_type": "markdown",
   "metadata": {},
   "source": [
    "#### Step 2: Use the `savings_data` list to create a Pandas DataFrame named `savings_df`, and then display this DataFrame. The function to create the DataFrame should take the following three parameters:\n",
    "\n",
    "- `savings_data`: Use the list that you just created.\n",
    "\n",
    "- `columns`: Set this parameter equal to a Python list with a single value called `amount`.\n",
    "\n",
    "- `index`: Set this parameter equal to a Python list with the values of `crypto` and `stock/bond`.\n"
   ]
  },
  {
   "cell_type": "code",
   "execution_count": 86,
   "metadata": {},
   "outputs": [
    {
     "data": {
      "text/html": [
       "<div>\n",
       "<style scoped>\n",
       "    .dataframe tbody tr th:only-of-type {\n",
       "        vertical-align: middle;\n",
       "    }\n",
       "\n",
       "    .dataframe tbody tr th {\n",
       "        vertical-align: top;\n",
       "    }\n",
       "\n",
       "    .dataframe thead th {\n",
       "        text-align: right;\n",
       "    }\n",
       "</style>\n",
       "<table border=\"1\" class=\"dataframe\">\n",
       "  <thead>\n",
       "    <tr style=\"text-align: right;\">\n",
       "      <th></th>\n",
       "      <th>Amount</th>\n",
       "    </tr>\n",
       "  </thead>\n",
       "  <tbody>\n",
       "    <tr>\n",
       "      <th>Crypto</th>\n",
       "      <td>98443.889</td>\n",
       "    </tr>\n",
       "    <tr>\n",
       "      <th>Stock/Bonds</th>\n",
       "      <td>60689.500</td>\n",
       "    </tr>\n",
       "  </tbody>\n",
       "</table>\n",
       "</div>"
      ],
      "text/plain": [
       "                Amount\n",
       "Crypto       98443.889\n",
       "Stock/Bonds  60689.500"
      ]
     },
     "execution_count": 86,
     "metadata": {},
     "output_type": "execute_result"
    }
   ],
   "source": [
    "# Create a Pandas DataFrame called savings_df \n",
    "# Here we have created a new dataframe with the pd.DataFrame function, and we pass it a few parameters like savings_data( wich is a list of\n",
    "# values), index( wich is a list of values) and columns( wich is a list of 1 value).\n",
    "savings_df = pd.DataFrame(\n",
    "    savings_data,\n",
    "    index = [\"Crypto\", \"Stock/Bonds\"],\n",
    "    columns = [\"Amount\"])\n",
    "\n",
    "\n",
    "# Display the savings_df DataFrame\n",
    "savings_df\n"
   ]
  },
  {
   "cell_type": "markdown",
   "metadata": {},
   "source": [
    "#### Step 3: Use the `savings_df` DataFrame to plot a pie chart that visualizes the composition of the member’s portfolio. The y-axis of the pie chart uses `amount`. Be sure to add a title."
   ]
  },
  {
   "cell_type": "code",
   "execution_count": 88,
   "metadata": {},
   "outputs": [
    {
     "data": {
      "text/plain": [
       "<AxesSubplot:title={'center':'Composition of Portfolio'}, ylabel='Amount'>"
      ]
     },
     "execution_count": 88,
     "metadata": {},
     "output_type": "execute_result"
    },
    {
     "data": {
      "image/png": "[encoded data removed]",
      "text/plain": [
       "<Figure size 360x360 with 1 Axes>"
      ]
     },
     "metadata": {},
     "output_type": "display_data"
    }
   ],
   "source": [
    "# Plot the total value of the member's portfolio (crypto and stock/bond) in a pie chart\n",
    "# Here we are creating a pie chart of the composition of the portfolio. \n",
    "savings_df.plot.pie(y=\"Amount\", figsize=(5,5), title=\"Composition of Portfolio\")\n"
   ]
  },
  {
   "cell_type": "markdown",
   "metadata": {},
   "source": [
    "#### Step 4: Using Python, determine if the current portfolio has enough to create an emergency fund as part of the member’s financial plan. Ideally, an emergency fund should equal to three times the member’s monthly income. To do this, implement the following steps:\n",
    "\n",
    "Step 1. Create a variable named `emergency_fund_value`, and set it equal to three times the value of the member’s `monthly_income` of 12000. (You set this earlier in Part 1).\n",
    "\n",
    "Step 2. Create a series of three if statements to determine if the member’s total portfolio is large enough to fund the emergency portfolio:\n",
    "\n",
    "* If the total portfolio value is greater than the emergency fund value, display a message congratulating the member for having enough money in this fund.\n",
    "\n",
    "* Else if the total portfolio value is equal to the emergency fund value, display a message congratulating the member on reaching this important financial goal.\n",
    "\n",
    "* Else the total portfolio is less than the emergency fund value, so display a message showing how many dollars away the member is from reaching the goal. (Subtract the total portfolio value from the emergency fund value.)\n"
   ]
  },
  {
   "cell_type": "markdown",
   "metadata": {},
   "source": [
    "##### Step 4-1: Create a variable named `emergency_fund_value`, and set it equal to three times the value of the member’s `monthly_income` of 12000. (You set this earlier in Part 1)."
   ]
  },
  {
   "cell_type": "code",
   "execution_count": 89,
   "metadata": {},
   "outputs": [],
   "source": [
    "# Create a variable named emergency_fund_value\n",
    "# Here we are creating a new variable and passing it the value of a previously set value times 3.\n",
    "emergency_fund_value = monthly_income*3\n"
   ]
  },
  {
   "cell_type": "markdown",
   "metadata": {},
   "source": [
    "##### Step 4-2: Create a series of three if statements to determine if the member’s total portfolio is large enough to fund the emergency portfolio:\n",
    "\n",
    "* If the total portfolio value is greater than the emergency fund value, display a message congratulating the member for having enough money in this fund.\n",
    "\n",
    "* Else if the total portfolio value is equal to the emergency fund value, display a message congratulating the member on reaching this important financial goal.\n",
    "\n",
    "* Else the total portfolio is less than the emergency fund value, so display a message showing how many dollars away the member is from reaching the goal. (Subtract the total portfolio value from the emergency fund value.)"
   ]
  },
  {
   "cell_type": "code",
   "execution_count": 103,
   "metadata": {},
   "outputs": [
    {
     "name": "stdout",
     "output_type": "stream",
     "text": [
      " Congratulations, you have enough money in this fund.\n"
     ]
    }
   ],
   "source": [
    "# Evaluate the possibility of creating an emergency fund with 3 conditions:\n",
    "# This is a conditional statement saying, if savings_data is greater or equal to emergency_fund_value then print a statement. Else, subract \n",
    "# savings_data from emergency_fund_value and set that to a variable named difference. then print a statement and pass the variable difference\n",
    "# into the statement.\n",
    "if sum(savings_data) >= emergency_fund_value:\n",
    "   print(f\" Congratulations, you have enough money in this fund.\")\n",
    "else:\n",
    "   difference = emergency_fund_value - savings_data\n",
    "   print(f\" You are ${difference} away from reaching your goal.\")\n",
    "\n",
    "\n"
   ]
  },
  {
   "cell_type": "markdown",
   "metadata": {
    "jp-MarkdownHeadingCollapsed": true,
    "tags": []
   },
   "source": [
    "## Part 2: Create a Financial Planner for Retirement"
   ]
  },
  {
   "cell_type": "markdown",
   "metadata": {},
   "source": [
    "### Create the Monte Carlo Simulation\n",
    "\n",
    "In this section, you’ll use the MCForecastTools library to create a Monte Carlo simulation for the member’s savings portfolio. To do this, complete the following steps:\n",
    "\n",
    "1. Make an API call via the Alpaca SDK to get 3 years of historical closing prices for a traditional 60/40 portfolio split: 60% stocks (SPY) and 40% bonds (AGG).\n",
    "\n",
    "2. Run a Monte Carlo simulation of 500 samples and 30 years for the 60/40 portfolio, and then plot the results.The following image shows the overlay line plot resulting from a simulation with these characteristics. However, because a random number generator is used to run each live Monte Carlo simulation, your image will differ slightly from this exact image:\n",
    "\n",
    "![A screenshot depicts the resulting plot.](Images/5-4-monte-carlo-line-plot.png)\n",
    "\n",
    "3. Plot the probability distribution of the Monte Carlo simulation. Plot the probability distribution of the Monte Carlo simulation. The following image shows the histogram plot resulting from a simulation with these characteristics. However, because a random number generator is used to run each live Monte Carlo simulation, your image will differ slightly from this exact image:\n",
    "\n",
    "![A screenshot depicts the histogram plot.](Images/5-4-monte-carlo-histogram.png)\n",
    "\n",
    "4. Generate the summary statistics for the Monte Carlo simulation.\n",
    "\n"
   ]
  },
  {
   "cell_type": "markdown",
   "metadata": {},
   "source": [
    "#### Step 1: Make an API call via the Alpaca SDK to get 3 years of historical closing prices for a traditional 60/40 portfolio split: 60% stocks (SPY) and 40% bonds (AGG)."
   ]
  },
  {
   "cell_type": "code",
   "execution_count": 45,
   "metadata": {
    "tags": []
   },
   "outputs": [],
   "source": [
    "# Set start and end dates of 3 years back from your current date\n",
    "# Alternatively, you can use an end date of 2020-08-07 and work 3 years back from that date \n",
    "# Here we are setting parameters for a new api call. We are saying the start of the data we want is on the start date, and the end of the data\n",
    "# we are requesting is on the end date.\n",
    "start_date= pd.Timestamp(\"2018-08-07\", tz=\"America/New_York\").isoformat()\n",
    "end_date= pd.Timestamp(\"2021-08-07\", tz=\"America/New_York\").isoformat()\n",
    "\n",
    "# Set number of rows to 1000 to retrieve the maximum amount of rows\n",
    "# Here we are setting the limit of bars per symbol. the max is 1000\n",
    "limit_rows = 1000"
   ]
  },
  {
   "cell_type": "code",
   "execution_count": 46,
   "metadata": {},
   "outputs": [
    {
     "data": {
      "text/html": [
       "<div>\n",
       "<style scoped>\n",
       "    .dataframe tbody tr th:only-of-type {\n",
       "        vertical-align: middle;\n",
       "    }\n",
       "\n",
       "    .dataframe tbody tr th {\n",
       "        vertical-align: top;\n",
       "    }\n",
       "\n",
       "    .dataframe thead tr th {\n",
       "        text-align: left;\n",
       "    }\n",
       "\n",
       "    .dataframe thead tr:last-of-type th {\n",
       "        text-align: right;\n",
       "    }\n",
       "</style>\n",
       "<table border=\"1\" class=\"dataframe\">\n",
       "  <thead>\n",
       "    <tr>\n",
       "      <th></th>\n",
       "      <th colspan=\"5\" halign=\"left\">AGG</th>\n",
       "      <th colspan=\"5\" halign=\"left\">SPY</th>\n",
       "    </tr>\n",
       "    <tr>\n",
       "      <th></th>\n",
       "      <th>open</th>\n",
       "      <th>high</th>\n",
       "      <th>low</th>\n",
       "      <th>close</th>\n",
       "      <th>volume</th>\n",
       "      <th>open</th>\n",
       "      <th>high</th>\n",
       "      <th>low</th>\n",
       "      <th>close</th>\n",
       "      <th>volume</th>\n",
       "    </tr>\n",
       "    <tr>\n",
       "      <th>time</th>\n",
       "      <th></th>\n",
       "      <th></th>\n",
       "      <th></th>\n",
       "      <th></th>\n",
       "      <th></th>\n",
       "      <th></th>\n",
       "      <th></th>\n",
       "      <th></th>\n",
       "      <th></th>\n",
       "      <th></th>\n",
       "    </tr>\n",
       "  </thead>\n",
       "  <tbody>\n",
       "    <tr>\n",
       "      <th>2018-08-07 00:00:00-04:00</th>\n",
       "      <td>105.97</td>\n",
       "      <td>105.97</td>\n",
       "      <td>105.8250</td>\n",
       "      <td>105.840</td>\n",
       "      <td>2368151</td>\n",
       "      <td>285.39</td>\n",
       "      <td>286.010</td>\n",
       "      <td>285.240</td>\n",
       "      <td>285.54</td>\n",
       "      <td>32455420</td>\n",
       "    </tr>\n",
       "    <tr>\n",
       "      <th>2018-08-08 00:00:00-04:00</th>\n",
       "      <td>105.83</td>\n",
       "      <td>105.91</td>\n",
       "      <td>105.8000</td>\n",
       "      <td>105.845</td>\n",
       "      <td>1613011</td>\n",
       "      <td>285.39</td>\n",
       "      <td>285.910</td>\n",
       "      <td>284.940</td>\n",
       "      <td>285.42</td>\n",
       "      <td>29142601</td>\n",
       "    </tr>\n",
       "    <tr>\n",
       "      <th>2018-08-09 00:00:00-04:00</th>\n",
       "      <td>105.97</td>\n",
       "      <td>106.04</td>\n",
       "      <td>105.9329</td>\n",
       "      <td>106.030</td>\n",
       "      <td>2168479</td>\n",
       "      <td>285.53</td>\n",
       "      <td>285.970</td>\n",
       "      <td>284.915</td>\n",
       "      <td>285.06</td>\n",
       "      <td>24338809</td>\n",
       "    </tr>\n",
       "    <tr>\n",
       "      <th>2018-08-10 00:00:00-04:00</th>\n",
       "      <td>106.11</td>\n",
       "      <td>106.36</td>\n",
       "      <td>106.1100</td>\n",
       "      <td>106.230</td>\n",
       "      <td>2555922</td>\n",
       "      <td>283.45</td>\n",
       "      <td>284.055</td>\n",
       "      <td>282.360</td>\n",
       "      <td>283.12</td>\n",
       "      <td>56622478</td>\n",
       "    </tr>\n",
       "    <tr>\n",
       "      <th>2018-08-13 00:00:00-04:00</th>\n",
       "      <td>106.16</td>\n",
       "      <td>106.30</td>\n",
       "      <td>106.1501</td>\n",
       "      <td>106.285</td>\n",
       "      <td>2558386</td>\n",
       "      <td>283.47</td>\n",
       "      <td>284.160</td>\n",
       "      <td>281.770</td>\n",
       "      <td>282.05</td>\n",
       "      <td>49247799</td>\n",
       "    </tr>\n",
       "  </tbody>\n",
       "</table>\n",
       "</div>"
      ],
      "text/plain": [
       "                              AGG                                         SPY  \\\n",
       "                             open    high       low    close   volume    open   \n",
       "time                                                                            \n",
       "2018-08-07 00:00:00-04:00  105.97  105.97  105.8250  105.840  2368151  285.39   \n",
       "2018-08-08 00:00:00-04:00  105.83  105.91  105.8000  105.845  1613011  285.39   \n",
       "2018-08-09 00:00:00-04:00  105.97  106.04  105.9329  106.030  2168479  285.53   \n",
       "2018-08-10 00:00:00-04:00  106.11  106.36  106.1100  106.230  2555922  283.45   \n",
       "2018-08-13 00:00:00-04:00  106.16  106.30  106.1501  106.285  2558386  283.47   \n",
       "\n",
       "                                                               \n",
       "                              high      low   close    volume  \n",
       "time                                                           \n",
       "2018-08-07 00:00:00-04:00  286.010  285.240  285.54  32455420  \n",
       "2018-08-08 00:00:00-04:00  285.910  284.940  285.42  29142601  \n",
       "2018-08-09 00:00:00-04:00  285.970  284.915  285.06  24338809  \n",
       "2018-08-10 00:00:00-04:00  284.055  282.360  283.12  56622478  \n",
       "2018-08-13 00:00:00-04:00  284.160  281.770  282.05  49247799  "
      ]
     },
     "metadata": {},
     "output_type": "display_data"
    },
    {
     "data": {
      "text/html": [
       "<div>\n",
       "<style scoped>\n",
       "    .dataframe tbody tr th:only-of-type {\n",
       "        vertical-align: middle;\n",
       "    }\n",
       "\n",
       "    .dataframe tbody tr th {\n",
       "        vertical-align: top;\n",
       "    }\n",
       "\n",
       "    .dataframe thead tr th {\n",
       "        text-align: left;\n",
       "    }\n",
       "\n",
       "    .dataframe thead tr:last-of-type th {\n",
       "        text-align: right;\n",
       "    }\n",
       "</style>\n",
       "<table border=\"1\" class=\"dataframe\">\n",
       "  <thead>\n",
       "    <tr>\n",
       "      <th></th>\n",
       "      <th colspan=\"5\" halign=\"left\">AGG</th>\n",
       "      <th colspan=\"5\" halign=\"left\">SPY</th>\n",
       "    </tr>\n",
       "    <tr>\n",
       "      <th></th>\n",
       "      <th>open</th>\n",
       "      <th>high</th>\n",
       "      <th>low</th>\n",
       "      <th>close</th>\n",
       "      <th>volume</th>\n",
       "      <th>open</th>\n",
       "      <th>high</th>\n",
       "      <th>low</th>\n",
       "      <th>close</th>\n",
       "      <th>volume</th>\n",
       "    </tr>\n",
       "    <tr>\n",
       "      <th>time</th>\n",
       "      <th></th>\n",
       "      <th></th>\n",
       "      <th></th>\n",
       "      <th></th>\n",
       "      <th></th>\n",
       "      <th></th>\n",
       "      <th></th>\n",
       "      <th></th>\n",
       "      <th></th>\n",
       "      <th></th>\n",
       "    </tr>\n",
       "  </thead>\n",
       "  <tbody>\n",
       "    <tr>\n",
       "      <th>2021-08-02 00:00:00-04:00</th>\n",
       "      <td>116.36</td>\n",
       "      <td>116.68</td>\n",
       "      <td>116.3050</td>\n",
       "      <td>116.53</td>\n",
       "      <td>4669027</td>\n",
       "      <td>440.34</td>\n",
       "      <td>440.9300</td>\n",
       "      <td>437.21</td>\n",
       "      <td>437.58</td>\n",
       "      <td>54098311</td>\n",
       "    </tr>\n",
       "    <tr>\n",
       "      <th>2021-08-03 00:00:00-04:00</th>\n",
       "      <td>116.56</td>\n",
       "      <td>116.69</td>\n",
       "      <td>116.5306</td>\n",
       "      <td>116.58</td>\n",
       "      <td>3021828</td>\n",
       "      <td>438.44</td>\n",
       "      <td>441.2800</td>\n",
       "      <td>436.10</td>\n",
       "      <td>441.12</td>\n",
       "      <td>52043386</td>\n",
       "    </tr>\n",
       "    <tr>\n",
       "      <th>2021-08-04 00:00:00-04:00</th>\n",
       "      <td>116.77</td>\n",
       "      <td>116.83</td>\n",
       "      <td>116.3000</td>\n",
       "      <td>116.57</td>\n",
       "      <td>4578711</td>\n",
       "      <td>439.77</td>\n",
       "      <td>441.1243</td>\n",
       "      <td>438.73</td>\n",
       "      <td>439.01</td>\n",
       "      <td>40289514</td>\n",
       "    </tr>\n",
       "    <tr>\n",
       "      <th>2021-08-05 00:00:00-04:00</th>\n",
       "      <td>116.46</td>\n",
       "      <td>116.48</td>\n",
       "      <td>116.2800</td>\n",
       "      <td>116.32</td>\n",
       "      <td>3170931</td>\n",
       "      <td>440.22</td>\n",
       "      <td>441.8500</td>\n",
       "      <td>439.88</td>\n",
       "      <td>441.77</td>\n",
       "      <td>34903127</td>\n",
       "    </tr>\n",
       "    <tr>\n",
       "      <th>2021-08-06 00:00:00-04:00</th>\n",
       "      <td>115.93</td>\n",
       "      <td>116.02</td>\n",
       "      <td>115.7800</td>\n",
       "      <td>115.79</td>\n",
       "      <td>3125122</td>\n",
       "      <td>442.10</td>\n",
       "      <td>442.9400</td>\n",
       "      <td>441.80</td>\n",
       "      <td>442.52</td>\n",
       "      <td>40274051</td>\n",
       "    </tr>\n",
       "  </tbody>\n",
       "</table>\n",
       "</div>"
      ],
      "text/plain": [
       "                              AGG                                        SPY  \\\n",
       "                             open    high       low   close   volume    open   \n",
       "time                                                                           \n",
       "2021-08-02 00:00:00-04:00  116.36  116.68  116.3050  116.53  4669027  440.34   \n",
       "2021-08-03 00:00:00-04:00  116.56  116.69  116.5306  116.58  3021828  438.44   \n",
       "2021-08-04 00:00:00-04:00  116.77  116.83  116.3000  116.57  4578711  439.77   \n",
       "2021-08-05 00:00:00-04:00  116.46  116.48  116.2800  116.32  3170931  440.22   \n",
       "2021-08-06 00:00:00-04:00  115.93  116.02  115.7800  115.79  3125122  442.10   \n",
       "\n",
       "                                                               \n",
       "                               high     low   close    volume  \n",
       "time                                                           \n",
       "2021-08-02 00:00:00-04:00  440.9300  437.21  437.58  54098311  \n",
       "2021-08-03 00:00:00-04:00  441.2800  436.10  441.12  52043386  \n",
       "2021-08-04 00:00:00-04:00  441.1243  438.73  439.01  40289514  \n",
       "2021-08-05 00:00:00-04:00  441.8500  439.88  441.77  34903127  \n",
       "2021-08-06 00:00:00-04:00  442.9400  441.80  442.52  40274051  "
      ]
     },
     "metadata": {},
     "output_type": "display_data"
    }
   ],
   "source": [
    "# Use the Alpaca get_barset function to make the API call to get the 3 years worth of pricing data\n",
    "# The tickers and timeframe parameters should have been set in Part 1 of this activity \n",
    "# The start and end dates should be updated with the information set above\n",
    "# Remember to add the df property to the end of the call so the response is returned as a DataFrame\n",
    "# Ok, Here is the actual api call, we are not using the requests function where we pass the url to the function, but this is a real deal api call.\n",
    "# We are passing several parameters like the start_date and end_date and how many rows per symbol and timeframe. Then we assign the data to a new\n",
    "# variable called alpaca_3_year_df.\n",
    "alpaca_3_years_df = alpaca.get_barset(tickers,\n",
    "                              timeframe,\n",
    "                              start=start_date,\n",
    "                              end=end_date,\n",
    "                              limit=limit_rows).df\n",
    "\n",
    "\n",
    "# Display both the first and last five rows of the DataFrame\n",
    "# Here we are just displaying the data to make sure we got it.\n",
    "display(alpaca_3_years_df.head())\n",
    "display(alpaca_3_years_df.tail())\n"
   ]
  },
  {
   "cell_type": "markdown",
   "metadata": {},
   "source": [
    "#### Step 2: Run a Monte Carlo simulation of 500 samples and 30 years for the 60/40 portfolio, and then plot the results."
   ]
  },
  {
   "cell_type": "code",
   "execution_count": 47,
   "metadata": {},
   "outputs": [
    {
     "data": {
      "text/html": [
       "<div>\n",
       "<style scoped>\n",
       "    .dataframe tbody tr th:only-of-type {\n",
       "        vertical-align: middle;\n",
       "    }\n",
       "\n",
       "    .dataframe tbody tr th {\n",
       "        vertical-align: top;\n",
       "    }\n",
       "\n",
       "    .dataframe thead tr th {\n",
       "        text-align: left;\n",
       "    }\n",
       "\n",
       "    .dataframe thead tr:last-of-type th {\n",
       "        text-align: right;\n",
       "    }\n",
       "</style>\n",
       "<table border=\"1\" class=\"dataframe\">\n",
       "  <thead>\n",
       "    <tr>\n",
       "      <th></th>\n",
       "      <th colspan=\"6\" halign=\"left\">AGG</th>\n",
       "      <th colspan=\"6\" halign=\"left\">SPY</th>\n",
       "    </tr>\n",
       "    <tr>\n",
       "      <th></th>\n",
       "      <th>open</th>\n",
       "      <th>high</th>\n",
       "      <th>low</th>\n",
       "      <th>close</th>\n",
       "      <th>volume</th>\n",
       "      <th>daily_return</th>\n",
       "      <th>open</th>\n",
       "      <th>high</th>\n",
       "      <th>low</th>\n",
       "      <th>close</th>\n",
       "      <th>volume</th>\n",
       "      <th>daily_return</th>\n",
       "    </tr>\n",
       "    <tr>\n",
       "      <th>time</th>\n",
       "      <th></th>\n",
       "      <th></th>\n",
       "      <th></th>\n",
       "      <th></th>\n",
       "      <th></th>\n",
       "      <th></th>\n",
       "      <th></th>\n",
       "      <th></th>\n",
       "      <th></th>\n",
       "      <th></th>\n",
       "      <th></th>\n",
       "      <th></th>\n",
       "    </tr>\n",
       "  </thead>\n",
       "  <tbody>\n",
       "    <tr>\n",
       "      <th>2018-08-07 00:00:00-04:00</th>\n",
       "      <td>105.97</td>\n",
       "      <td>105.97</td>\n",
       "      <td>105.8250</td>\n",
       "      <td>105.840</td>\n",
       "      <td>2368151</td>\n",
       "      <td>NaN</td>\n",
       "      <td>285.39</td>\n",
       "      <td>286.010</td>\n",
       "      <td>285.240</td>\n",
       "      <td>285.54</td>\n",
       "      <td>32455420</td>\n",
       "      <td>NaN</td>\n",
       "    </tr>\n",
       "    <tr>\n",
       "      <th>2018-08-08 00:00:00-04:00</th>\n",
       "      <td>105.83</td>\n",
       "      <td>105.91</td>\n",
       "      <td>105.8000</td>\n",
       "      <td>105.845</td>\n",
       "      <td>1613011</td>\n",
       "      <td>0.000047</td>\n",
       "      <td>285.39</td>\n",
       "      <td>285.910</td>\n",
       "      <td>284.940</td>\n",
       "      <td>285.42</td>\n",
       "      <td>29142601</td>\n",
       "      <td>-0.000420</td>\n",
       "    </tr>\n",
       "    <tr>\n",
       "      <th>2018-08-09 00:00:00-04:00</th>\n",
       "      <td>105.97</td>\n",
       "      <td>106.04</td>\n",
       "      <td>105.9329</td>\n",
       "      <td>106.030</td>\n",
       "      <td>2168479</td>\n",
       "      <td>0.001748</td>\n",
       "      <td>285.53</td>\n",
       "      <td>285.970</td>\n",
       "      <td>284.915</td>\n",
       "      <td>285.06</td>\n",
       "      <td>24338809</td>\n",
       "      <td>-0.001261</td>\n",
       "    </tr>\n",
       "    <tr>\n",
       "      <th>2018-08-10 00:00:00-04:00</th>\n",
       "      <td>106.11</td>\n",
       "      <td>106.36</td>\n",
       "      <td>106.1100</td>\n",
       "      <td>106.230</td>\n",
       "      <td>2555922</td>\n",
       "      <td>0.001886</td>\n",
       "      <td>283.45</td>\n",
       "      <td>284.055</td>\n",
       "      <td>282.360</td>\n",
       "      <td>283.12</td>\n",
       "      <td>56622478</td>\n",
       "      <td>-0.006806</td>\n",
       "    </tr>\n",
       "    <tr>\n",
       "      <th>2018-08-13 00:00:00-04:00</th>\n",
       "      <td>106.16</td>\n",
       "      <td>106.30</td>\n",
       "      <td>106.1501</td>\n",
       "      <td>106.285</td>\n",
       "      <td>2558386</td>\n",
       "      <td>0.000518</td>\n",
       "      <td>283.47</td>\n",
       "      <td>284.160</td>\n",
       "      <td>281.770</td>\n",
       "      <td>282.05</td>\n",
       "      <td>49247799</td>\n",
       "      <td>-0.003779</td>\n",
       "    </tr>\n",
       "  </tbody>\n",
       "</table>\n",
       "</div>"
      ],
      "text/plain": [
       "                              AGG                                      \\\n",
       "                             open    high       low    close   volume   \n",
       "time                                                                    \n",
       "2018-08-07 00:00:00-04:00  105.97  105.97  105.8250  105.840  2368151   \n",
       "2018-08-08 00:00:00-04:00  105.83  105.91  105.8000  105.845  1613011   \n",
       "2018-08-09 00:00:00-04:00  105.97  106.04  105.9329  106.030  2168479   \n",
       "2018-08-10 00:00:00-04:00  106.11  106.36  106.1100  106.230  2555922   \n",
       "2018-08-13 00:00:00-04:00  106.16  106.30  106.1501  106.285  2558386   \n",
       "\n",
       "                                           SPY                            \\\n",
       "                          daily_return    open     high      low   close   \n",
       "time                                                                       \n",
       "2018-08-07 00:00:00-04:00          NaN  285.39  286.010  285.240  285.54   \n",
       "2018-08-08 00:00:00-04:00     0.000047  285.39  285.910  284.940  285.42   \n",
       "2018-08-09 00:00:00-04:00     0.001748  285.53  285.970  284.915  285.06   \n",
       "2018-08-10 00:00:00-04:00     0.001886  283.45  284.055  282.360  283.12   \n",
       "2018-08-13 00:00:00-04:00     0.000518  283.47  284.160  281.770  282.05   \n",
       "\n",
       "                                                  \n",
       "                             volume daily_return  \n",
       "time                                              \n",
       "2018-08-07 00:00:00-04:00  32455420          NaN  \n",
       "2018-08-08 00:00:00-04:00  29142601    -0.000420  \n",
       "2018-08-09 00:00:00-04:00  24338809    -0.001261  \n",
       "2018-08-10 00:00:00-04:00  56622478    -0.006806  \n",
       "2018-08-13 00:00:00-04:00  49247799    -0.003779  "
      ]
     },
     "execution_count": 47,
     "metadata": {},
     "output_type": "execute_result"
    }
   ],
   "source": [
    "# Configure the Monte Carlo simulation to forecast 30 years cumulative returns\n",
    "# The weights should be split 40% to AGG and 60% to SPY.\n",
    "# Run 500 samples.\n",
    "# Ok here we are using the MCSimulation function to run a Monte Carlo prediction function. We tell the simulation to weight the prediction the \n",
    "# way we want, wich is 40% AGG and 60% SPY. Then we say run the simulation 500 times, and use the data to predict what it will look like 30 years\n",
    "# in the future. Pretty Cool.\n",
    "MC_prices_30_years_df = MCSimulation(\n",
    "    portfolio_data=alpaca_3_years_df,\n",
    "    weights=[.4,.6],\n",
    "    num_simulation=500,\n",
    "    num_trading_days=252*30)\n",
    "\n",
    "# Review the simulation input data\n",
    "# Here we review the data that we are gonna run the simulation on.\n",
    "MC_prices_30_years_df.portfolio_data.head()\n"
   ]
  },
  {
   "cell_type": "code",
   "execution_count": 48,
   "metadata": {},
   "outputs": [
    {
     "name": "stdout",
     "output_type": "stream",
     "text": [
      "Running Monte Carlo simulation number 0.\n",
      "Running Monte Carlo simulation number 10.\n",
      "Running Monte Carlo simulation number 20.\n",
      "Running Monte Carlo simulation number 30.\n",
      "Running Monte Carlo simulation number 40.\n",
      "Running Monte Carlo simulation number 50.\n",
      "Running Monte Carlo simulation number 60.\n",
      "Running Monte Carlo simulation number 70.\n",
      "Running Monte Carlo simulation number 80.\n",
      "Running Monte Carlo simulation number 90.\n",
      "Running Monte Carlo simulation number 100.\n"
     ]
    },
    {
     "name": "stderr",
     "output_type": "stream",
     "text": [
      "/Users/stephenthomas/Desktop/SCHOOL/Challenges/financial_planner/MCForecastTools.py:117: PerformanceWarning: DataFrame is highly fragmented.  This is usually the result of calling `frame.insert` many times, which has poor performance.  Consider joining all columns at once using pd.concat(axis=1) instead.  To get a de-fragmented frame, use `newframe = frame.copy()`\n",
      "  portfolio_cumulative_returns[n] = (1 + sim_df.fillna(0)).cumprod()\n"
     ]
    },
    {
     "name": "stdout",
     "output_type": "stream",
     "text": [
      "Running Monte Carlo simulation number 110.\n",
      "Running Monte Carlo simulation number 120.\n",
      "Running Monte Carlo simulation number 130.\n",
      "Running Monte Carlo simulation number 140.\n",
      "Running Monte Carlo simulation number 150.\n",
      "Running Monte Carlo simulation number 160.\n",
      "Running Monte Carlo simulation number 170.\n",
      "Running Monte Carlo simulation number 180.\n",
      "Running Monte Carlo simulation number 190.\n",
      "Running Monte Carlo simulation number 200.\n",
      "Running Monte Carlo simulation number 210.\n",
      "Running Monte Carlo simulation number 220.\n",
      "Running Monte Carlo simulation number 230.\n",
      "Running Monte Carlo simulation number 240.\n",
      "Running Monte Carlo simulation number 250.\n",
      "Running Monte Carlo simulation number 260.\n",
      "Running Monte Carlo simulation number 270.\n",
      "Running Monte Carlo simulation number 280.\n",
      "Running Monte Carlo simulation number 290.\n",
      "Running Monte Carlo simulation number 300.\n",
      "Running Monte Carlo simulation number 310.\n",
      "Running Monte Carlo simulation number 320.\n",
      "Running Monte Carlo simulation number 330.\n",
      "Running Monte Carlo simulation number 340.\n",
      "Running Monte Carlo simulation number 350.\n",
      "Running Monte Carlo simulation number 360.\n",
      "Running Monte Carlo simulation number 370.\n",
      "Running Monte Carlo simulation number 380.\n",
      "Running Monte Carlo simulation number 390.\n",
      "Running Monte Carlo simulation number 400.\n",
      "Running Monte Carlo simulation number 410.\n",
      "Running Monte Carlo simulation number 420.\n",
      "Running Monte Carlo simulation number 430.\n",
      "Running Monte Carlo simulation number 440.\n",
      "Running Monte Carlo simulation number 450.\n",
      "Running Monte Carlo simulation number 460.\n",
      "Running Monte Carlo simulation number 470.\n",
      "Running Monte Carlo simulation number 480.\n",
      "Running Monte Carlo simulation number 490.\n"
     ]
    },
    {
     "data": {
      "text/html": [
       "<div>\n",
       "<style scoped>\n",
       "    .dataframe tbody tr th:only-of-type {\n",
       "        vertical-align: middle;\n",
       "    }\n",
       "\n",
       "    .dataframe tbody tr th {\n",
       "        vertical-align: top;\n",
       "    }\n",
       "\n",
       "    .dataframe thead th {\n",
       "        text-align: right;\n",
       "    }\n",
       "</style>\n",
       "<table border=\"1\" class=\"dataframe\">\n",
       "  <thead>\n",
       "    <tr style=\"text-align: right;\">\n",
       "      <th></th>\n",
       "      <th>0</th>\n",
       "      <th>1</th>\n",
       "      <th>2</th>\n",
       "      <th>3</th>\n",
       "      <th>4</th>\n",
       "      <th>5</th>\n",
       "      <th>6</th>\n",
       "      <th>7</th>\n",
       "      <th>8</th>\n",
       "      <th>9</th>\n",
       "      <th>...</th>\n",
       "      <th>490</th>\n",
       "      <th>491</th>\n",
       "      <th>492</th>\n",
       "      <th>493</th>\n",
       "      <th>494</th>\n",
       "      <th>495</th>\n",
       "      <th>496</th>\n",
       "      <th>497</th>\n",
       "      <th>498</th>\n",
       "      <th>499</th>\n",
       "    </tr>\n",
       "  </thead>\n",
       "  <tbody>\n",
       "    <tr>\n",
       "      <th>0</th>\n",
       "      <td>1.000000</td>\n",
       "      <td>1.000000</td>\n",
       "      <td>1.000000</td>\n",
       "      <td>1.000000</td>\n",
       "      <td>1.000000</td>\n",
       "      <td>1.000000</td>\n",
       "      <td>1.000000</td>\n",
       "      <td>1.000000</td>\n",
       "      <td>1.000000</td>\n",
       "      <td>1.000000</td>\n",
       "      <td>...</td>\n",
       "      <td>1.000000</td>\n",
       "      <td>1.000000</td>\n",
       "      <td>1.000000</td>\n",
       "      <td>1.000000</td>\n",
       "      <td>1.000000</td>\n",
       "      <td>1.000000</td>\n",
       "      <td>1.000000</td>\n",
       "      <td>1.000000</td>\n",
       "      <td>1.000000</td>\n",
       "      <td>1.000000</td>\n",
       "    </tr>\n",
       "    <tr>\n",
       "      <th>1</th>\n",
       "      <td>1.004977</td>\n",
       "      <td>0.993833</td>\n",
       "      <td>0.992814</td>\n",
       "      <td>0.978973</td>\n",
       "      <td>0.998408</td>\n",
       "      <td>1.020013</td>\n",
       "      <td>1.005001</td>\n",
       "      <td>1.003828</td>\n",
       "      <td>1.007468</td>\n",
       "      <td>1.003334</td>\n",
       "      <td>...</td>\n",
       "      <td>0.998334</td>\n",
       "      <td>1.004835</td>\n",
       "      <td>0.991504</td>\n",
       "      <td>1.007168</td>\n",
       "      <td>0.996165</td>\n",
       "      <td>0.994218</td>\n",
       "      <td>0.994380</td>\n",
       "      <td>1.006128</td>\n",
       "      <td>0.990528</td>\n",
       "      <td>0.998424</td>\n",
       "    </tr>\n",
       "    <tr>\n",
       "      <th>2</th>\n",
       "      <td>1.006470</td>\n",
       "      <td>0.999737</td>\n",
       "      <td>1.007721</td>\n",
       "      <td>0.970777</td>\n",
       "      <td>0.988995</td>\n",
       "      <td>1.030903</td>\n",
       "      <td>0.996492</td>\n",
       "      <td>1.012231</td>\n",
       "      <td>1.022653</td>\n",
       "      <td>1.009148</td>\n",
       "      <td>...</td>\n",
       "      <td>0.991788</td>\n",
       "      <td>1.011407</td>\n",
       "      <td>0.985381</td>\n",
       "      <td>1.006322</td>\n",
       "      <td>0.997381</td>\n",
       "      <td>0.993033</td>\n",
       "      <td>0.993057</td>\n",
       "      <td>1.012845</td>\n",
       "      <td>1.003365</td>\n",
       "      <td>1.003006</td>\n",
       "    </tr>\n",
       "    <tr>\n",
       "      <th>3</th>\n",
       "      <td>0.999893</td>\n",
       "      <td>0.989658</td>\n",
       "      <td>0.999058</td>\n",
       "      <td>0.966471</td>\n",
       "      <td>0.993961</td>\n",
       "      <td>1.031403</td>\n",
       "      <td>1.008992</td>\n",
       "      <td>1.023105</td>\n",
       "      <td>1.034444</td>\n",
       "      <td>1.012905</td>\n",
       "      <td>...</td>\n",
       "      <td>0.998790</td>\n",
       "      <td>1.027469</td>\n",
       "      <td>0.984584</td>\n",
       "      <td>0.990790</td>\n",
       "      <td>0.988974</td>\n",
       "      <td>0.994712</td>\n",
       "      <td>1.000465</td>\n",
       "      <td>1.003933</td>\n",
       "      <td>1.002961</td>\n",
       "      <td>1.006959</td>\n",
       "    </tr>\n",
       "    <tr>\n",
       "      <th>4</th>\n",
       "      <td>0.999674</td>\n",
       "      <td>1.002663</td>\n",
       "      <td>0.998941</td>\n",
       "      <td>0.962403</td>\n",
       "      <td>0.993913</td>\n",
       "      <td>1.041647</td>\n",
       "      <td>1.010117</td>\n",
       "      <td>1.033021</td>\n",
       "      <td>1.041718</td>\n",
       "      <td>1.012556</td>\n",
       "      <td>...</td>\n",
       "      <td>1.008418</td>\n",
       "      <td>1.031275</td>\n",
       "      <td>0.982731</td>\n",
       "      <td>1.009322</td>\n",
       "      <td>0.975884</td>\n",
       "      <td>0.989718</td>\n",
       "      <td>0.997474</td>\n",
       "      <td>1.010159</td>\n",
       "      <td>0.983425</td>\n",
       "      <td>1.002172</td>\n",
       "    </tr>\n",
       "    <tr>\n",
       "      <th>...</th>\n",
       "      <td>...</td>\n",
       "      <td>...</td>\n",
       "      <td>...</td>\n",
       "      <td>...</td>\n",
       "      <td>...</td>\n",
       "      <td>...</td>\n",
       "      <td>...</td>\n",
       "      <td>...</td>\n",
       "      <td>...</td>\n",
       "      <td>...</td>\n",
       "      <td>...</td>\n",
       "      <td>...</td>\n",
       "      <td>...</td>\n",
       "      <td>...</td>\n",
       "      <td>...</td>\n",
       "      <td>...</td>\n",
       "      <td>...</td>\n",
       "      <td>...</td>\n",
       "      <td>...</td>\n",
       "      <td>...</td>\n",
       "      <td>...</td>\n",
       "    </tr>\n",
       "    <tr>\n",
       "      <th>7556</th>\n",
       "      <td>44.423375</td>\n",
       "      <td>52.094107</td>\n",
       "      <td>15.992854</td>\n",
       "      <td>14.796673</td>\n",
       "      <td>7.329870</td>\n",
       "      <td>25.741389</td>\n",
       "      <td>68.989707</td>\n",
       "      <td>16.600619</td>\n",
       "      <td>31.176741</td>\n",
       "      <td>20.861810</td>\n",
       "      <td>...</td>\n",
       "      <td>22.522488</td>\n",
       "      <td>25.221242</td>\n",
       "      <td>39.954295</td>\n",
       "      <td>25.796443</td>\n",
       "      <td>7.410700</td>\n",
       "      <td>36.296655</td>\n",
       "      <td>29.213166</td>\n",
       "      <td>24.424598</td>\n",
       "      <td>50.018281</td>\n",
       "      <td>24.486112</td>\n",
       "    </tr>\n",
       "    <tr>\n",
       "      <th>7557</th>\n",
       "      <td>44.490318</td>\n",
       "      <td>52.190406</td>\n",
       "      <td>15.869369</td>\n",
       "      <td>14.946874</td>\n",
       "      <td>7.329771</td>\n",
       "      <td>25.689159</td>\n",
       "      <td>68.072020</td>\n",
       "      <td>16.643565</td>\n",
       "      <td>31.009285</td>\n",
       "      <td>20.622382</td>\n",
       "      <td>...</td>\n",
       "      <td>22.596877</td>\n",
       "      <td>25.071292</td>\n",
       "      <td>39.642181</td>\n",
       "      <td>25.644793</td>\n",
       "      <td>7.503489</td>\n",
       "      <td>36.124284</td>\n",
       "      <td>29.360455</td>\n",
       "      <td>24.851662</td>\n",
       "      <td>50.057215</td>\n",
       "      <td>24.273283</td>\n",
       "    </tr>\n",
       "    <tr>\n",
       "      <th>7558</th>\n",
       "      <td>44.512368</td>\n",
       "      <td>51.896343</td>\n",
       "      <td>15.862022</td>\n",
       "      <td>14.971843</td>\n",
       "      <td>7.265699</td>\n",
       "      <td>25.985425</td>\n",
       "      <td>67.302067</td>\n",
       "      <td>16.463293</td>\n",
       "      <td>31.186752</td>\n",
       "      <td>20.679863</td>\n",
       "      <td>...</td>\n",
       "      <td>22.584485</td>\n",
       "      <td>24.504337</td>\n",
       "      <td>40.432915</td>\n",
       "      <td>25.175219</td>\n",
       "      <td>7.616071</td>\n",
       "      <td>36.200956</td>\n",
       "      <td>29.417275</td>\n",
       "      <td>24.510748</td>\n",
       "      <td>50.040259</td>\n",
       "      <td>24.458506</td>\n",
       "    </tr>\n",
       "    <tr>\n",
       "      <th>7559</th>\n",
       "      <td>44.246979</td>\n",
       "      <td>51.568003</td>\n",
       "      <td>15.949301</td>\n",
       "      <td>14.947821</td>\n",
       "      <td>7.292582</td>\n",
       "      <td>26.396809</td>\n",
       "      <td>66.968271</td>\n",
       "      <td>16.432872</td>\n",
       "      <td>31.141657</td>\n",
       "      <td>20.600420</td>\n",
       "      <td>...</td>\n",
       "      <td>22.570960</td>\n",
       "      <td>24.595222</td>\n",
       "      <td>40.420487</td>\n",
       "      <td>25.488533</td>\n",
       "      <td>7.580690</td>\n",
       "      <td>36.334838</td>\n",
       "      <td>29.281855</td>\n",
       "      <td>24.515651</td>\n",
       "      <td>50.754931</td>\n",
       "      <td>24.367979</td>\n",
       "    </tr>\n",
       "    <tr>\n",
       "      <th>7560</th>\n",
       "      <td>44.353582</td>\n",
       "      <td>52.307586</td>\n",
       "      <td>15.911075</td>\n",
       "      <td>15.053655</td>\n",
       "      <td>7.326349</td>\n",
       "      <td>26.243127</td>\n",
       "      <td>66.592833</td>\n",
       "      <td>16.450409</td>\n",
       "      <td>31.658386</td>\n",
       "      <td>20.442530</td>\n",
       "      <td>...</td>\n",
       "      <td>22.900332</td>\n",
       "      <td>24.395377</td>\n",
       "      <td>40.005258</td>\n",
       "      <td>25.584693</td>\n",
       "      <td>7.608591</td>\n",
       "      <td>36.108769</td>\n",
       "      <td>29.378500</td>\n",
       "      <td>24.595912</td>\n",
       "      <td>50.851158</td>\n",
       "      <td>24.212809</td>\n",
       "    </tr>\n",
       "  </tbody>\n",
       "</table>\n",
       "<p>7561 rows × 500 columns</p>\n",
       "</div>"
      ],
      "text/plain": [
       "            0          1          2          3         4          5    \\\n",
       "0      1.000000   1.000000   1.000000   1.000000  1.000000   1.000000   \n",
       "1      1.004977   0.993833   0.992814   0.978973  0.998408   1.020013   \n",
       "2      1.006470   0.999737   1.007721   0.970777  0.988995   1.030903   \n",
       "3      0.999893   0.989658   0.999058   0.966471  0.993961   1.031403   \n",
       "4      0.999674   1.002663   0.998941   0.962403  0.993913   1.041647   \n",
       "...         ...        ...        ...        ...       ...        ...   \n",
       "7556  44.423375  52.094107  15.992854  14.796673  7.329870  25.741389   \n",
       "7557  44.490318  52.190406  15.869369  14.946874  7.329771  25.689159   \n",
       "7558  44.512368  51.896343  15.862022  14.971843  7.265699  25.985425   \n",
       "7559  44.246979  51.568003  15.949301  14.947821  7.292582  26.396809   \n",
       "7560  44.353582  52.307586  15.911075  15.053655  7.326349  26.243127   \n",
       "\n",
       "            6          7          8          9    ...        490        491  \\\n",
       "0      1.000000   1.000000   1.000000   1.000000  ...   1.000000   1.000000   \n",
       "1      1.005001   1.003828   1.007468   1.003334  ...   0.998334   1.004835   \n",
       "2      0.996492   1.012231   1.022653   1.009148  ...   0.991788   1.011407   \n",
       "3      1.008992   1.023105   1.034444   1.012905  ...   0.998790   1.027469   \n",
       "4      1.010117   1.033021   1.041718   1.012556  ...   1.008418   1.031275   \n",
       "...         ...        ...        ...        ...  ...        ...        ...   \n",
       "7556  68.989707  16.600619  31.176741  20.861810  ...  22.522488  25.221242   \n",
       "7557  68.072020  16.643565  31.009285  20.622382  ...  22.596877  25.071292   \n",
       "7558  67.302067  16.463293  31.186752  20.679863  ...  22.584485  24.504337   \n",
       "7559  66.968271  16.432872  31.141657  20.600420  ...  22.570960  24.595222   \n",
       "7560  66.592833  16.450409  31.658386  20.442530  ...  22.900332  24.395377   \n",
       "\n",
       "            492        493       494        495        496        497  \\\n",
       "0      1.000000   1.000000  1.000000   1.000000   1.000000   1.000000   \n",
       "1      0.991504   1.007168  0.996165   0.994218   0.994380   1.006128   \n",
       "2      0.985381   1.006322  0.997381   0.993033   0.993057   1.012845   \n",
       "3      0.984584   0.990790  0.988974   0.994712   1.000465   1.003933   \n",
       "4      0.982731   1.009322  0.975884   0.989718   0.997474   1.010159   \n",
       "...         ...        ...       ...        ...        ...        ...   \n",
       "7556  39.954295  25.796443  7.410700  36.296655  29.213166  24.424598   \n",
       "7557  39.642181  25.644793  7.503489  36.124284  29.360455  24.851662   \n",
       "7558  40.432915  25.175219  7.616071  36.200956  29.417275  24.510748   \n",
       "7559  40.420487  25.488533  7.580690  36.334838  29.281855  24.515651   \n",
       "7560  40.005258  25.584693  7.608591  36.108769  29.378500  24.595912   \n",
       "\n",
       "            498        499  \n",
       "0      1.000000   1.000000  \n",
       "1      0.990528   0.998424  \n",
       "2      1.003365   1.003006  \n",
       "3      1.002961   1.006959  \n",
       "4      0.983425   1.002172  \n",
       "...         ...        ...  \n",
       "7556  50.018281  24.486112  \n",
       "7557  50.057215  24.273283  \n",
       "7558  50.040259  24.458506  \n",
       "7559  50.754931  24.367979  \n",
       "7560  50.851158  24.212809  \n",
       "\n",
       "[7561 rows x 500 columns]"
      ]
     },
     "execution_count": 48,
     "metadata": {},
     "output_type": "execute_result"
    }
   ],
   "source": [
    "# Run the Monte Carlo simulation to forecast 30 years cumulative returns\n",
    "# This is the command that actually initiates the simulation.\n",
    "MC_prices_30_years_df.calc_cumulative_return()\n"
   ]
  },
  {
   "cell_type": "code",
   "execution_count": 49,
   "metadata": {},
   "outputs": [
    {
     "data": {
      "text/plain": [
       "<AxesSubplot:title={'center':'500 Simulations of Cumulative Portfolio Return Trajectories Over the Next 7560 Trading Days.'}>"
      ]
     },
     "execution_count": 49,
     "metadata": {},
     "output_type": "execute_result"
    },
    {
     "data": {
      "image/png": "[encoded data removed]",
      "text/plain": [
       "<Figure size 432x288 with 1 Axes>"
      ]
     },
     "metadata": {
      "needs_background": "light"
     },
     "output_type": "display_data"
    }
   ],
   "source": [
    "# Visualize the 30-year Monte Carlo simulation by creating an\n",
    "# overlay line plot\n",
    "# Here we create an overlay plot that plots the simulation, As you can see, there were some instanced were the simulation returned really high \n",
    "# predictions and others that were really low predictions.\n",
    "MC_prices_30_years_df.plot_simulation()\n"
   ]
  },
  {
   "cell_type": "markdown",
   "metadata": {},
   "source": [
    "#### Step 3: Plot the probability distribution of the Monte Carlo simulation."
   ]
  },
  {
   "cell_type": "code",
   "execution_count": 50,
   "metadata": {},
   "outputs": [
    {
     "data": {
      "text/plain": [
       "<AxesSubplot:title={'center':'Distribution of Final Cumuluative Returns Across All 500 Simulations'}, ylabel='Frequency'>"
      ]
     },
     "execution_count": 50,
     "metadata": {},
     "output_type": "execute_result"
    },
    {
     "data": {
      "image/png": "[encoded data removed]",
      "text/plain": [
       "<Figure size 432x288 with 1 Axes>"
      ]
     },
     "metadata": {
      "needs_background": "light"
     },
     "output_type": "display_data"
    }
   ],
   "source": [
    "# Visualize the probability distribution of the 30-year Monte Carlo simulation \n",
    "# by plotting a histogram\n",
    "# Here we create a histogram plot that presents the data that we got from the simulation in a different way as to help the user understand what the \n",
    "# simulation came up with. All these different plots are all meant to Understand the data. Data is not very helpful if we don't understand it.\n",
    "# This is why there are so many different ways to plot, so we can extract max value from the data. Nobody can look at a huge dataframe and \n",
    "# notice all the nuances.\n",
    "MC_prices_30_years_df.plot_distribution()\n"
   ]
  },
  {
   "cell_type": "markdown",
   "metadata": {},
   "source": [
    "#### Step 4: Generate the summary statistics for the Monte Carlo simulation."
   ]
  },
  {
   "cell_type": "code",
   "execution_count": 51,
   "metadata": {},
   "outputs": [
    {
     "name": "stdout",
     "output_type": "stream",
     "text": [
      "count           500.000000\n",
      "mean             31.550862\n",
      "std              27.468791\n",
      "min               1.165072\n",
      "25%              14.301451\n",
      "50%              24.544041\n",
      "75%              38.314403\n",
      "max             189.473452\n",
      "95% CI Lower      5.534074\n",
      "95% CI Upper    109.545976\n",
      "Name: 7560, dtype: float64\n"
     ]
    }
   ],
   "source": [
    "# Generate summary statistics from the 30-year Monte Carlo simulation results\n",
    "# Save the results as a variable\n",
    "# Here we are getting the summary statistics, again to extract value out of the data and try to understand what it is saying.\n",
    "MC_summary_statistics_30 = MC_prices_30_years_df.summarize_cumulative_return()\n",
    "\n",
    "\n",
    "# Review the 30-year Monte Carlo summary statistics\n",
    "print(MC_summary_statistics_30)"
   ]
  },
  {
   "cell_type": "markdown",
   "metadata": {},
   "source": [
    "### Analyze the Retirement Portfolio Forecasts\n",
    "\n",
    "Using the current value of only the stock and bond portion of the member's portfolio and the summary statistics that you generated from the Monte Carlo simulation, answer the following question in your Jupyter notebook:\n",
    "\n",
    "-  What are the lower and upper bounds for the expected value of the portfolio with a 95% confidence interval?\n"
   ]
  },
  {
   "cell_type": "code",
   "execution_count": 52,
   "metadata": {},
   "outputs": [
    {
     "name": "stdout",
     "output_type": "stream",
     "text": [
      "60689.5\n"
     ]
    }
   ],
   "source": [
    "# Print the current balance of the stock and bond portion of the members portfolio\n",
    "# This is just a print command to see the value in USD of the current stocks & bonds portion of the portfolio.\n",
    "print(total_stocks_bonds)\n"
   ]
  },
  {
   "cell_type": "code",
   "execution_count": 53,
   "metadata": {},
   "outputs": [
    {
     "name": "stdout",
     "output_type": "stream",
     "text": [
      " There is a 95% chance that the stocks/bonds portion of this portfolio over the next 30 years will end in the range of $ 335860.19 and $ 6648290.49.\n"
     ]
    }
   ],
   "source": [
    "# Use the lower and upper `95%` confidence intervals to calculate the range of the possible outcomes for the current stock/bond portfolio\n",
    "# Here we use a 95% confidence interval to represent the lower and upper bounds of the cumulative performance of the portfolio. So we are saying\n",
    "# multiply the total value of the stocks and bonds by the number that equals the lower and upper bands of where we have 95% confidence that the\n",
    "# cumulative performance will be at. So we are saying in 30 years, we beleive with 95% confidence that the stocks and bonds will be somewhere in\n",
    "# the middle of the lower and upper bands.\n",
    "ci_lower_thirty_cumulative_return = MC_summary_statistics_30[8]* total_stocks_bonds\n",
    "ci_upper_thirty_cumulative_return = MC_summary_statistics_30[9]* total_stocks_bonds\n",
    "\n",
    "# Print the result of your calculations\n",
    "print(f\" There is a 95% chance that the stocks/bonds portion of this portfolio over the next 30 years will end in the range of\"\n",
    "      f\" ${ci_lower_thirty_cumulative_return: .2f} and ${ci_upper_thirty_cumulative_return: .2f}.\")\n"
   ]
  },
  {
   "cell_type": "markdown",
   "metadata": {},
   "source": [
    "### Forecast Cumulative Returns in 10 Years\n",
    "\n",
    "The CTO of the credit union is impressed with your work on these planning tools but wonders if 30 years is a long time to wait until retirement. So, your next task is to adjust the retirement portfolio and run a new Monte Carlo simulation to find out if the changes will allow members to retire earlier.\n",
    "\n",
    "For this new Monte Carlo simulation, do the following: \n",
    "\n",
    "- Forecast the cumulative returns for 10 years from now. Because of the shortened investment horizon (30 years to 10 years), the portfolio needs to invest more heavily in the riskier asset&mdash;that is, stock&mdash;to help accumulate wealth for retirement. \n",
    "\n",
    "- Adjust the weights of the retirement portfolio so that the composition for the Monte Carlo simulation consists of 20% bonds and 80% stocks. \n",
    "\n",
    "- Run the simulation over 500 samples, and use the same data that the API call to Alpaca generated.\n",
    "\n",
    "- Based on the new Monte Carlo simulation, answer the following questions in your Jupyter notebook:\n",
    "\n",
    "    - Using the current value of only the stock and bond portion of the member's portfolio and the summary statistics that you generated from the new Monte Carlo simulation, what are the lower and upper bounds for the expected value of the portfolio (with the new weights) with a 95% confidence interval?\n",
    "\n",
    "    - Will weighting the portfolio more heavily toward stocks allow the credit union members to retire after only 10 years?\n"
   ]
  },
  {
   "cell_type": "code",
   "execution_count": 54,
   "metadata": {},
   "outputs": [
    {
     "data": {
      "text/html": [
       "<div>\n",
       "<style scoped>\n",
       "    .dataframe tbody tr th:only-of-type {\n",
       "        vertical-align: middle;\n",
       "    }\n",
       "\n",
       "    .dataframe tbody tr th {\n",
       "        vertical-align: top;\n",
       "    }\n",
       "\n",
       "    .dataframe thead tr th {\n",
       "        text-align: left;\n",
       "    }\n",
       "\n",
       "    .dataframe thead tr:last-of-type th {\n",
       "        text-align: right;\n",
       "    }\n",
       "</style>\n",
       "<table border=\"1\" class=\"dataframe\">\n",
       "  <thead>\n",
       "    <tr>\n",
       "      <th></th>\n",
       "      <th colspan=\"6\" halign=\"left\">AGG</th>\n",
       "      <th colspan=\"6\" halign=\"left\">SPY</th>\n",
       "    </tr>\n",
       "    <tr>\n",
       "      <th></th>\n",
       "      <th>open</th>\n",
       "      <th>high</th>\n",
       "      <th>low</th>\n",
       "      <th>close</th>\n",
       "      <th>volume</th>\n",
       "      <th>daily_return</th>\n",
       "      <th>open</th>\n",
       "      <th>high</th>\n",
       "      <th>low</th>\n",
       "      <th>close</th>\n",
       "      <th>volume</th>\n",
       "      <th>daily_return</th>\n",
       "    </tr>\n",
       "    <tr>\n",
       "      <th>time</th>\n",
       "      <th></th>\n",
       "      <th></th>\n",
       "      <th></th>\n",
       "      <th></th>\n",
       "      <th></th>\n",
       "      <th></th>\n",
       "      <th></th>\n",
       "      <th></th>\n",
       "      <th></th>\n",
       "      <th></th>\n",
       "      <th></th>\n",
       "      <th></th>\n",
       "    </tr>\n",
       "  </thead>\n",
       "  <tbody>\n",
       "    <tr>\n",
       "      <th>2018-08-07 00:00:00-04:00</th>\n",
       "      <td>105.97</td>\n",
       "      <td>105.97</td>\n",
       "      <td>105.8250</td>\n",
       "      <td>105.840</td>\n",
       "      <td>2368151</td>\n",
       "      <td>NaN</td>\n",
       "      <td>285.39</td>\n",
       "      <td>286.010</td>\n",
       "      <td>285.240</td>\n",
       "      <td>285.54</td>\n",
       "      <td>32455420</td>\n",
       "      <td>NaN</td>\n",
       "    </tr>\n",
       "    <tr>\n",
       "      <th>2018-08-08 00:00:00-04:00</th>\n",
       "      <td>105.83</td>\n",
       "      <td>105.91</td>\n",
       "      <td>105.8000</td>\n",
       "      <td>105.845</td>\n",
       "      <td>1613011</td>\n",
       "      <td>0.000047</td>\n",
       "      <td>285.39</td>\n",
       "      <td>285.910</td>\n",
       "      <td>284.940</td>\n",
       "      <td>285.42</td>\n",
       "      <td>29142601</td>\n",
       "      <td>-0.000420</td>\n",
       "    </tr>\n",
       "    <tr>\n",
       "      <th>2018-08-09 00:00:00-04:00</th>\n",
       "      <td>105.97</td>\n",
       "      <td>106.04</td>\n",
       "      <td>105.9329</td>\n",
       "      <td>106.030</td>\n",
       "      <td>2168479</td>\n",
       "      <td>0.001748</td>\n",
       "      <td>285.53</td>\n",
       "      <td>285.970</td>\n",
       "      <td>284.915</td>\n",
       "      <td>285.06</td>\n",
       "      <td>24338809</td>\n",
       "      <td>-0.001261</td>\n",
       "    </tr>\n",
       "    <tr>\n",
       "      <th>2018-08-10 00:00:00-04:00</th>\n",
       "      <td>106.11</td>\n",
       "      <td>106.36</td>\n",
       "      <td>106.1100</td>\n",
       "      <td>106.230</td>\n",
       "      <td>2555922</td>\n",
       "      <td>0.001886</td>\n",
       "      <td>283.45</td>\n",
       "      <td>284.055</td>\n",
       "      <td>282.360</td>\n",
       "      <td>283.12</td>\n",
       "      <td>56622478</td>\n",
       "      <td>-0.006806</td>\n",
       "    </tr>\n",
       "    <tr>\n",
       "      <th>2018-08-13 00:00:00-04:00</th>\n",
       "      <td>106.16</td>\n",
       "      <td>106.30</td>\n",
       "      <td>106.1501</td>\n",
       "      <td>106.285</td>\n",
       "      <td>2558386</td>\n",
       "      <td>0.000518</td>\n",
       "      <td>283.47</td>\n",
       "      <td>284.160</td>\n",
       "      <td>281.770</td>\n",
       "      <td>282.05</td>\n",
       "      <td>49247799</td>\n",
       "      <td>-0.003779</td>\n",
       "    </tr>\n",
       "  </tbody>\n",
       "</table>\n",
       "</div>"
      ],
      "text/plain": [
       "                              AGG                                      \\\n",
       "                             open    high       low    close   volume   \n",
       "time                                                                    \n",
       "2018-08-07 00:00:00-04:00  105.97  105.97  105.8250  105.840  2368151   \n",
       "2018-08-08 00:00:00-04:00  105.83  105.91  105.8000  105.845  1613011   \n",
       "2018-08-09 00:00:00-04:00  105.97  106.04  105.9329  106.030  2168479   \n",
       "2018-08-10 00:00:00-04:00  106.11  106.36  106.1100  106.230  2555922   \n",
       "2018-08-13 00:00:00-04:00  106.16  106.30  106.1501  106.285  2558386   \n",
       "\n",
       "                                           SPY                            \\\n",
       "                          daily_return    open     high      low   close   \n",
       "time                                                                       \n",
       "2018-08-07 00:00:00-04:00          NaN  285.39  286.010  285.240  285.54   \n",
       "2018-08-08 00:00:00-04:00     0.000047  285.39  285.910  284.940  285.42   \n",
       "2018-08-09 00:00:00-04:00     0.001748  285.53  285.970  284.915  285.06   \n",
       "2018-08-10 00:00:00-04:00     0.001886  283.45  284.055  282.360  283.12   \n",
       "2018-08-13 00:00:00-04:00     0.000518  283.47  284.160  281.770  282.05   \n",
       "\n",
       "                                                  \n",
       "                             volume daily_return  \n",
       "time                                              \n",
       "2018-08-07 00:00:00-04:00  32455420          NaN  \n",
       "2018-08-08 00:00:00-04:00  29142601    -0.000420  \n",
       "2018-08-09 00:00:00-04:00  24338809    -0.001261  \n",
       "2018-08-10 00:00:00-04:00  56622478    -0.006806  \n",
       "2018-08-13 00:00:00-04:00  49247799    -0.003779  "
      ]
     },
     "execution_count": 54,
     "metadata": {},
     "output_type": "execute_result"
    }
   ],
   "source": [
    "# Configure a Monte Carlo simulation to forecast 10 years cumulative returns\n",
    "# The weights should be split 20% to AGG and 80% to SPY.\n",
    "# Run 500 samples.\n",
    "# Here we are running a another simulation with slightly different parameters. In the first simulation we ran it to predict 30 years in the future.\n",
    "# In this simulation we are changing the weight of the portfolio inot more risky holdings, SPY and reducing the amount of bonds, and shortening the\n",
    "# length of time that it will predict into the future to 10 years. The point is, if we can take a more risky position but retire quicker than \n",
    "# there is value in exploring this option. Here we keep the number of simulations the same at 500 and change the weight of the portfolio to 80%\n",
    "# SPY and 20% AGG and run it to predict 10 years in the future.\n",
    "MC_prices_10_years_df = MCSimulation(\n",
    "    portfolio_data=alpaca_3_years_df,\n",
    "    weights=[.2,.8],\n",
    "    num_simulation=500,\n",
    "    num_trading_days=252*10)\n",
    "\n",
    "# Review the simulation input data\n",
    "MC_prices_10_years_df.portfolio_data.head()\n"
   ]
  },
  {
   "cell_type": "code",
   "execution_count": 55,
   "metadata": {},
   "outputs": [
    {
     "name": "stdout",
     "output_type": "stream",
     "text": [
      "Running Monte Carlo simulation number 0.\n",
      "Running Monte Carlo simulation number 10.\n",
      "Running Monte Carlo simulation number 20.\n",
      "Running Monte Carlo simulation number 30.\n",
      "Running Monte Carlo simulation number 40.\n",
      "Running Monte Carlo simulation number 50.\n",
      "Running Monte Carlo simulation number 60.\n",
      "Running Monte Carlo simulation number 70.\n",
      "Running Monte Carlo simulation number 80.\n",
      "Running Monte Carlo simulation number 90.\n",
      "Running Monte Carlo simulation number 100.\n"
     ]
    },
    {
     "name": "stderr",
     "output_type": "stream",
     "text": [
      "/Users/stephenthomas/Desktop/SCHOOL/Challenges/financial_planner/MCForecastTools.py:117: PerformanceWarning: DataFrame is highly fragmented.  This is usually the result of calling `frame.insert` many times, which has poor performance.  Consider joining all columns at once using pd.concat(axis=1) instead.  To get a de-fragmented frame, use `newframe = frame.copy()`\n",
      "  portfolio_cumulative_returns[n] = (1 + sim_df.fillna(0)).cumprod()\n"
     ]
    },
    {
     "name": "stdout",
     "output_type": "stream",
     "text": [
      "Running Monte Carlo simulation number 110.\n",
      "Running Monte Carlo simulation number 120.\n",
      "Running Monte Carlo simulation number 130.\n",
      "Running Monte Carlo simulation number 140.\n",
      "Running Monte Carlo simulation number 150.\n",
      "Running Monte Carlo simulation number 160.\n",
      "Running Monte Carlo simulation number 170.\n",
      "Running Monte Carlo simulation number 180.\n",
      "Running Monte Carlo simulation number 190.\n",
      "Running Monte Carlo simulation number 200.\n",
      "Running Monte Carlo simulation number 210.\n",
      "Running Monte Carlo simulation number 220.\n",
      "Running Monte Carlo simulation number 230.\n",
      "Running Monte Carlo simulation number 240.\n",
      "Running Monte Carlo simulation number 250.\n",
      "Running Monte Carlo simulation number 260.\n",
      "Running Monte Carlo simulation number 270.\n",
      "Running Monte Carlo simulation number 280.\n",
      "Running Monte Carlo simulation number 290.\n",
      "Running Monte Carlo simulation number 300.\n",
      "Running Monte Carlo simulation number 310.\n",
      "Running Monte Carlo simulation number 320.\n",
      "Running Monte Carlo simulation number 330.\n",
      "Running Monte Carlo simulation number 340.\n",
      "Running Monte Carlo simulation number 350.\n",
      "Running Monte Carlo simulation number 360.\n",
      "Running Monte Carlo simulation number 370.\n",
      "Running Monte Carlo simulation number 380.\n",
      "Running Monte Carlo simulation number 390.\n",
      "Running Monte Carlo simulation number 400.\n",
      "Running Monte Carlo simulation number 410.\n",
      "Running Monte Carlo simulation number 420.\n",
      "Running Monte Carlo simulation number 430.\n",
      "Running Monte Carlo simulation number 440.\n",
      "Running Monte Carlo simulation number 450.\n",
      "Running Monte Carlo simulation number 460.\n",
      "Running Monte Carlo simulation number 470.\n",
      "Running Monte Carlo simulation number 480.\n",
      "Running Monte Carlo simulation number 490.\n"
     ]
    },
    {
     "data": {
      "text/html": [
       "<div>\n",
       "<style scoped>\n",
       "    .dataframe tbody tr th:only-of-type {\n",
       "        vertical-align: middle;\n",
       "    }\n",
       "\n",
       "    .dataframe tbody tr th {\n",
       "        vertical-align: top;\n",
       "    }\n",
       "\n",
       "    .dataframe thead th {\n",
       "        text-align: right;\n",
       "    }\n",
       "</style>\n",
       "<table border=\"1\" class=\"dataframe\">\n",
       "  <thead>\n",
       "    <tr style=\"text-align: right;\">\n",
       "      <th></th>\n",
       "      <th>0</th>\n",
       "      <th>1</th>\n",
       "      <th>2</th>\n",
       "      <th>3</th>\n",
       "      <th>4</th>\n",
       "      <th>5</th>\n",
       "      <th>6</th>\n",
       "      <th>7</th>\n",
       "      <th>8</th>\n",
       "      <th>9</th>\n",
       "      <th>...</th>\n",
       "      <th>490</th>\n",
       "      <th>491</th>\n",
       "      <th>492</th>\n",
       "      <th>493</th>\n",
       "      <th>494</th>\n",
       "      <th>495</th>\n",
       "      <th>496</th>\n",
       "      <th>497</th>\n",
       "      <th>498</th>\n",
       "      <th>499</th>\n",
       "    </tr>\n",
       "  </thead>\n",
       "  <tbody>\n",
       "    <tr>\n",
       "      <th>0</th>\n",
       "      <td>1.000000</td>\n",
       "      <td>1.000000</td>\n",
       "      <td>1.000000</td>\n",
       "      <td>1.000000</td>\n",
       "      <td>1.000000</td>\n",
       "      <td>1.000000</td>\n",
       "      <td>1.000000</td>\n",
       "      <td>1.000000</td>\n",
       "      <td>1.000000</td>\n",
       "      <td>1.000000</td>\n",
       "      <td>...</td>\n",
       "      <td>1.000000</td>\n",
       "      <td>1.000000</td>\n",
       "      <td>1.000000</td>\n",
       "      <td>1.000000</td>\n",
       "      <td>1.000000</td>\n",
       "      <td>1.000000</td>\n",
       "      <td>1.000000</td>\n",
       "      <td>1.000000</td>\n",
       "      <td>1.000000</td>\n",
       "      <td>1.000000</td>\n",
       "    </tr>\n",
       "    <tr>\n",
       "      <th>1</th>\n",
       "      <td>0.985818</td>\n",
       "      <td>0.977752</td>\n",
       "      <td>1.011210</td>\n",
       "      <td>0.993592</td>\n",
       "      <td>0.983848</td>\n",
       "      <td>1.009301</td>\n",
       "      <td>1.010728</td>\n",
       "      <td>1.008736</td>\n",
       "      <td>0.987531</td>\n",
       "      <td>1.000348</td>\n",
       "      <td>...</td>\n",
       "      <td>1.008527</td>\n",
       "      <td>0.994467</td>\n",
       "      <td>1.001291</td>\n",
       "      <td>1.015994</td>\n",
       "      <td>0.998244</td>\n",
       "      <td>0.994099</td>\n",
       "      <td>0.979542</td>\n",
       "      <td>0.998552</td>\n",
       "      <td>1.024955</td>\n",
       "      <td>1.017938</td>\n",
       "    </tr>\n",
       "    <tr>\n",
       "      <th>2</th>\n",
       "      <td>0.976160</td>\n",
       "      <td>0.977625</td>\n",
       "      <td>1.000000</td>\n",
       "      <td>0.973502</td>\n",
       "      <td>0.986334</td>\n",
       "      <td>0.997908</td>\n",
       "      <td>1.001405</td>\n",
       "      <td>1.000458</td>\n",
       "      <td>0.975416</td>\n",
       "      <td>1.004514</td>\n",
       "      <td>...</td>\n",
       "      <td>1.028896</td>\n",
       "      <td>1.009039</td>\n",
       "      <td>0.993952</td>\n",
       "      <td>1.017417</td>\n",
       "      <td>0.995050</td>\n",
       "      <td>0.991444</td>\n",
       "      <td>0.979637</td>\n",
       "      <td>1.009565</td>\n",
       "      <td>1.014825</td>\n",
       "      <td>1.023245</td>\n",
       "    </tr>\n",
       "    <tr>\n",
       "      <th>3</th>\n",
       "      <td>0.977371</td>\n",
       "      <td>0.978919</td>\n",
       "      <td>0.996491</td>\n",
       "      <td>0.981748</td>\n",
       "      <td>0.994368</td>\n",
       "      <td>0.995028</td>\n",
       "      <td>0.983889</td>\n",
       "      <td>1.018123</td>\n",
       "      <td>0.970324</td>\n",
       "      <td>1.016253</td>\n",
       "      <td>...</td>\n",
       "      <td>1.022453</td>\n",
       "      <td>1.018024</td>\n",
       "      <td>0.999990</td>\n",
       "      <td>1.002634</td>\n",
       "      <td>1.006934</td>\n",
       "      <td>0.979901</td>\n",
       "      <td>0.982969</td>\n",
       "      <td>1.004922</td>\n",
       "      <td>1.026201</td>\n",
       "      <td>1.032301</td>\n",
       "    </tr>\n",
       "    <tr>\n",
       "      <th>4</th>\n",
       "      <td>0.982128</td>\n",
       "      <td>0.978907</td>\n",
       "      <td>1.009390</td>\n",
       "      <td>0.979493</td>\n",
       "      <td>1.014337</td>\n",
       "      <td>0.993724</td>\n",
       "      <td>0.973991</td>\n",
       "      <td>1.019042</td>\n",
       "      <td>0.968261</td>\n",
       "      <td>1.004752</td>\n",
       "      <td>...</td>\n",
       "      <td>0.991810</td>\n",
       "      <td>1.020795</td>\n",
       "      <td>0.995189</td>\n",
       "      <td>1.006579</td>\n",
       "      <td>0.990840</td>\n",
       "      <td>0.970811</td>\n",
       "      <td>0.990643</td>\n",
       "      <td>0.983571</td>\n",
       "      <td>1.030320</td>\n",
       "      <td>1.022220</td>\n",
       "    </tr>\n",
       "    <tr>\n",
       "      <th>...</th>\n",
       "      <td>...</td>\n",
       "      <td>...</td>\n",
       "      <td>...</td>\n",
       "      <td>...</td>\n",
       "      <td>...</td>\n",
       "      <td>...</td>\n",
       "      <td>...</td>\n",
       "      <td>...</td>\n",
       "      <td>...</td>\n",
       "      <td>...</td>\n",
       "      <td>...</td>\n",
       "      <td>...</td>\n",
       "      <td>...</td>\n",
       "      <td>...</td>\n",
       "      <td>...</td>\n",
       "      <td>...</td>\n",
       "      <td>...</td>\n",
       "      <td>...</td>\n",
       "      <td>...</td>\n",
       "      <td>...</td>\n",
       "      <td>...</td>\n",
       "    </tr>\n",
       "    <tr>\n",
       "      <th>2516</th>\n",
       "      <td>3.351852</td>\n",
       "      <td>2.637596</td>\n",
       "      <td>9.201119</td>\n",
       "      <td>3.089298</td>\n",
       "      <td>5.096897</td>\n",
       "      <td>1.540875</td>\n",
       "      <td>1.963848</td>\n",
       "      <td>2.637026</td>\n",
       "      <td>4.259919</td>\n",
       "      <td>5.447279</td>\n",
       "      <td>...</td>\n",
       "      <td>5.171870</td>\n",
       "      <td>2.502803</td>\n",
       "      <td>4.002795</td>\n",
       "      <td>5.006201</td>\n",
       "      <td>1.310924</td>\n",
       "      <td>0.954785</td>\n",
       "      <td>2.765688</td>\n",
       "      <td>10.370924</td>\n",
       "      <td>3.177474</td>\n",
       "      <td>4.003595</td>\n",
       "    </tr>\n",
       "    <tr>\n",
       "      <th>2517</th>\n",
       "      <td>3.396407</td>\n",
       "      <td>2.647790</td>\n",
       "      <td>9.349043</td>\n",
       "      <td>3.127145</td>\n",
       "      <td>5.157792</td>\n",
       "      <td>1.534809</td>\n",
       "      <td>1.957474</td>\n",
       "      <td>2.652916</td>\n",
       "      <td>4.276872</td>\n",
       "      <td>5.438129</td>\n",
       "      <td>...</td>\n",
       "      <td>5.116492</td>\n",
       "      <td>2.533788</td>\n",
       "      <td>4.044842</td>\n",
       "      <td>4.982261</td>\n",
       "      <td>1.320247</td>\n",
       "      <td>0.973031</td>\n",
       "      <td>2.746240</td>\n",
       "      <td>10.504760</td>\n",
       "      <td>3.159497</td>\n",
       "      <td>3.963398</td>\n",
       "    </tr>\n",
       "    <tr>\n",
       "      <th>2518</th>\n",
       "      <td>3.408247</td>\n",
       "      <td>2.601099</td>\n",
       "      <td>9.461960</td>\n",
       "      <td>3.093258</td>\n",
       "      <td>5.062363</td>\n",
       "      <td>1.514095</td>\n",
       "      <td>1.972957</td>\n",
       "      <td>2.623810</td>\n",
       "      <td>4.271548</td>\n",
       "      <td>5.481157</td>\n",
       "      <td>...</td>\n",
       "      <td>5.177647</td>\n",
       "      <td>2.495096</td>\n",
       "      <td>4.077889</td>\n",
       "      <td>4.983240</td>\n",
       "      <td>1.312583</td>\n",
       "      <td>0.979628</td>\n",
       "      <td>2.775125</td>\n",
       "      <td>10.359899</td>\n",
       "      <td>3.228420</td>\n",
       "      <td>3.939244</td>\n",
       "    </tr>\n",
       "    <tr>\n",
       "      <th>2519</th>\n",
       "      <td>3.336826</td>\n",
       "      <td>2.552688</td>\n",
       "      <td>9.492208</td>\n",
       "      <td>3.054413</td>\n",
       "      <td>5.142426</td>\n",
       "      <td>1.497755</td>\n",
       "      <td>1.978079</td>\n",
       "      <td>2.613816</td>\n",
       "      <td>4.286687</td>\n",
       "      <td>5.500185</td>\n",
       "      <td>...</td>\n",
       "      <td>5.222215</td>\n",
       "      <td>2.479348</td>\n",
       "      <td>4.078126</td>\n",
       "      <td>4.984105</td>\n",
       "      <td>1.323451</td>\n",
       "      <td>0.978629</td>\n",
       "      <td>2.804430</td>\n",
       "      <td>10.102178</td>\n",
       "      <td>3.225660</td>\n",
       "      <td>3.923713</td>\n",
       "    </tr>\n",
       "    <tr>\n",
       "      <th>2520</th>\n",
       "      <td>3.255661</td>\n",
       "      <td>2.552963</td>\n",
       "      <td>9.584438</td>\n",
       "      <td>2.962106</td>\n",
       "      <td>5.155806</td>\n",
       "      <td>1.474610</td>\n",
       "      <td>1.976756</td>\n",
       "      <td>2.553275</td>\n",
       "      <td>4.296191</td>\n",
       "      <td>5.493991</td>\n",
       "      <td>...</td>\n",
       "      <td>5.286418</td>\n",
       "      <td>2.498042</td>\n",
       "      <td>4.067008</td>\n",
       "      <td>5.069752</td>\n",
       "      <td>1.319509</td>\n",
       "      <td>0.961220</td>\n",
       "      <td>2.799309</td>\n",
       "      <td>10.183122</td>\n",
       "      <td>3.177468</td>\n",
       "      <td>3.919500</td>\n",
       "    </tr>\n",
       "  </tbody>\n",
       "</table>\n",
       "<p>2521 rows × 500 columns</p>\n",
       "</div>"
      ],
      "text/plain": [
       "           0         1         2         3         4         5         6    \\\n",
       "0     1.000000  1.000000  1.000000  1.000000  1.000000  1.000000  1.000000   \n",
       "1     0.985818  0.977752  1.011210  0.993592  0.983848  1.009301  1.010728   \n",
       "2     0.976160  0.977625  1.000000  0.973502  0.986334  0.997908  1.001405   \n",
       "3     0.977371  0.978919  0.996491  0.981748  0.994368  0.995028  0.983889   \n",
       "4     0.982128  0.978907  1.009390  0.979493  1.014337  0.993724  0.973991   \n",
       "...        ...       ...       ...       ...       ...       ...       ...   \n",
       "2516  3.351852  2.637596  9.201119  3.089298  5.096897  1.540875  1.963848   \n",
       "2517  3.396407  2.647790  9.349043  3.127145  5.157792  1.534809  1.957474   \n",
       "2518  3.408247  2.601099  9.461960  3.093258  5.062363  1.514095  1.972957   \n",
       "2519  3.336826  2.552688  9.492208  3.054413  5.142426  1.497755  1.978079   \n",
       "2520  3.255661  2.552963  9.584438  2.962106  5.155806  1.474610  1.976756   \n",
       "\n",
       "           7         8         9    ...       490       491       492  \\\n",
       "0     1.000000  1.000000  1.000000  ...  1.000000  1.000000  1.000000   \n",
       "1     1.008736  0.987531  1.000348  ...  1.008527  0.994467  1.001291   \n",
       "2     1.000458  0.975416  1.004514  ...  1.028896  1.009039  0.993952   \n",
       "3     1.018123  0.970324  1.016253  ...  1.022453  1.018024  0.999990   \n",
       "4     1.019042  0.968261  1.004752  ...  0.991810  1.020795  0.995189   \n",
       "...        ...       ...       ...  ...       ...       ...       ...   \n",
       "2516  2.637026  4.259919  5.447279  ...  5.171870  2.502803  4.002795   \n",
       "2517  2.652916  4.276872  5.438129  ...  5.116492  2.533788  4.044842   \n",
       "2518  2.623810  4.271548  5.481157  ...  5.177647  2.495096  4.077889   \n",
       "2519  2.613816  4.286687  5.500185  ...  5.222215  2.479348  4.078126   \n",
       "2520  2.553275  4.296191  5.493991  ...  5.286418  2.498042  4.067008   \n",
       "\n",
       "           493       494       495       496        497       498       499  \n",
       "0     1.000000  1.000000  1.000000  1.000000   1.000000  1.000000  1.000000  \n",
       "1     1.015994  0.998244  0.994099  0.979542   0.998552  1.024955  1.017938  \n",
       "2     1.017417  0.995050  0.991444  0.979637   1.009565  1.014825  1.023245  \n",
       "3     1.002634  1.006934  0.979901  0.982969   1.004922  1.026201  1.032301  \n",
       "4     1.006579  0.990840  0.970811  0.990643   0.983571  1.030320  1.022220  \n",
       "...        ...       ...       ...       ...        ...       ...       ...  \n",
       "2516  5.006201  1.310924  0.954785  2.765688  10.370924  3.177474  4.003595  \n",
       "2517  4.982261  1.320247  0.973031  2.746240  10.504760  3.159497  3.963398  \n",
       "2518  4.983240  1.312583  0.979628  2.775125  10.359899  3.228420  3.939244  \n",
       "2519  4.984105  1.323451  0.978629  2.804430  10.102178  3.225660  3.923713  \n",
       "2520  5.069752  1.319509  0.961220  2.799309  10.183122  3.177468  3.919500  \n",
       "\n",
       "[2521 rows x 500 columns]"
      ]
     },
     "execution_count": 55,
     "metadata": {},
     "output_type": "execute_result"
    }
   ],
   "source": [
    "# Run the Monte Carlo simulation to forecast 10 years cumulative returns\n",
    "# Again, this is the actual command to initiat the simulation.\n",
    "MC_prices_10_years_df.calc_cumulative_return()"
   ]
  },
  {
   "cell_type": "code",
   "execution_count": 56,
   "metadata": {},
   "outputs": [
    {
     "data": {
      "text/plain": [
       "<AxesSubplot:title={'center':'500 Simulations of Cumulative Portfolio Return Trajectories Over the Next 2520 Trading Days.'}>"
      ]
     },
     "execution_count": 56,
     "metadata": {},
     "output_type": "execute_result"
    },
    {
     "data": {
      "image/png": "[encoded data removed]",
      "text/plain": [
       "<Figure size 432x288 with 1 Axes>"
      ]
     },
     "metadata": {
      "needs_background": "light"
     },
     "output_type": "display_data"
    }
   ],
   "source": [
    "# Visualize the 10-year Monte Carlo simulation by creating an\n",
    "# overlay line plot\n",
    "# Here we are creating an overlay plot with the predictions from the simulation. As you can see, because the portfolio was weighted 80% SPY and 20%\n",
    "# AGG we get a much more consolidated and narrow band of prediction values. Except for the 1 outlier.\n",
    "MC_prices_10_years_df.plot_simulation()\n"
   ]
  },
  {
   "cell_type": "code",
   "execution_count": 57,
   "metadata": {},
   "outputs": [
    {
     "data": {
      "text/plain": [
       "<AxesSubplot:title={'center':'Distribution of Final Cumuluative Returns Across All 500 Simulations'}, ylabel='Frequency'>"
      ]
     },
     "execution_count": 57,
     "metadata": {},
     "output_type": "execute_result"
    },
    {
     "data": {
      "image/png": "[encoded data removed]",
      "text/plain": [
       "<Figure size 432x288 with 1 Axes>"
      ]
     },
     "metadata": {
      "needs_background": "light"
     },
     "output_type": "display_data"
    }
   ],
   "source": [
    "# Visualize the probability distribution of the 10-year Monte Carlo simulation \n",
    "# by plotting a histogram\n",
    "# Here we are plotting a histogram to see if that helps to interpret the meaning of our simulation. Again, its clear that we have a much more\n",
    "# narrow band of data.\n",
    "MC_prices_10_years_df.plot_distribution()\n"
   ]
  },
  {
   "cell_type": "code",
   "execution_count": 58,
   "metadata": {},
   "outputs": [
    {
     "name": "stdout",
     "output_type": "stream",
     "text": [
      "count           500.000000\n",
      "mean              4.200975\n",
      "std               3.311745\n",
      "min               0.557874\n",
      "25%               2.404805\n",
      "50%               3.509473\n",
      "75%               5.155106\n",
      "max              52.606142\n",
      "95% CI Lower      1.073287\n",
      "95% CI Upper     11.134088\n",
      "Name: 2520, dtype: float64\n"
     ]
    }
   ],
   "source": [
    "# Generate summary statistics from the 10-year Monte Carlo simulation results\n",
    "# Save the results as a variable\n",
    "# This is how we get the summary statistics of the prediction data.\n",
    "MC_summary_statistics_10 = MC_prices_10_years_df.summarize_cumulative_return()\n",
    "\n",
    "\n",
    "# Review the 10-year Monte Carlo summary statistics\n",
    "print(MC_summary_statistics_10)"
   ]
  },
  {
   "cell_type": "markdown",
   "metadata": {},
   "source": [
    "### Answer the following questions:"
   ]
  },
  {
   "cell_type": "markdown",
   "metadata": {},
   "source": [
    "#### Question: Using the current value of only the stock and bond portion of the member's portfolio and the summary statistics that you generated from the new Monte Carlo simulation, what are the lower and upper bounds for the expected value of the portfolio (with the new weights) with a 95% confidence interval?"
   ]
  },
  {
   "cell_type": "code",
   "execution_count": 59,
   "metadata": {},
   "outputs": [
    {
     "data": {
      "text/plain": [
       "60689.5"
      ]
     },
     "execution_count": 59,
     "metadata": {},
     "output_type": "execute_result"
    }
   ],
   "source": [
    "# Print the current balance of the stock and bond portion of the members portfolio\n",
    "# Here we are just printing the value of the portion of the portfolio that s made up of stocks & bonds.\n",
    "total_stocks_bonds"
   ]
  },
  {
   "cell_type": "code",
   "execution_count": 60,
   "metadata": {},
   "outputs": [
    {
     "name": "stdout",
     "output_type": "stream",
     "text": [
      " There is a 95% chance that the stocks/bonds portion of this portfolio over the next 10 years will end in the range of $ 65137.27 and $ 675722.22.\n"
     ]
    }
   ],
   "source": [
    "# Use the lower and upper `95%` confidence intervals to calculate the range of the possible outcomes for the current stock/bond portfolio\n",
    "# This is the command we use to ascertain what the cumulative performance of the portfolio will be with a 95% confidence level. So we can get \n",
    "# range of the probable cumulative returns for 10 years in the future.\n",
    "ci_lower_ten_cumulative_return = MC_summary_statistics_10[8]* total_stocks_bonds\n",
    "ci_upper_ten_cumulative_return = MC_summary_statistics_10[9]* total_stocks_bonds\n",
    "\n",
    "# Print the result of your calculations\n",
    "print(f\" There is a 95% chance that the stocks/bonds portion of this portfolio over the next 10 years will end in the range of\"\n",
    "      f\" ${ci_lower_ten_cumulative_return: .2f} and ${ci_upper_ten_cumulative_return: .2f}.\")\n",
    "\n"
   ]
  },
  {
   "cell_type": "markdown",
   "metadata": {},
   "source": [
    "#### Question: Will weighting the portfolio more heavily to stocks allow the credit union members to retire after only 10 years?"
   ]
  },
  {
   "cell_type": "raw",
   "metadata": {},
   "source": [
    "**Answer** # YOUR ANSWER HERE"
   ]
  },
  {
   "cell_type": "markdown",
   "metadata": {},
   "source": [
    "No, After weighting the portfolio with 80% SPY and 20% AGG and running the simulation for 10 years, we did not see enough profit with a high confidence level to be able to retire. Now after 30 years I think its safe to say yes, its safe to retire, but 10 years was just not long enough to return the type of gains that I would feel comfortable retiring with. "
   ]
  },
  {
   "cell_type": "code",
   "execution_count": null,
   "metadata": {},
   "outputs": [],
   "source": []
  }
 ],
 "metadata": {
  "kernelspec": {
   "display_name": "Python 3 (ipykernel)",
   "language": "python",
   "name": "python3"
  },
  "language_info": {
   "codemirror_mode": {
    "name": "ipython",
    "version": 3
   },
   "file_extension": ".py",
   "mimetype": "text/x-python",
   "name": "python",
   "nbconvert_exporter": "python",
   "pygments_lexer": "ipython3",
   "version": "3.9.7"
  }
 },
 "nbformat": 4,
 "nbformat_minor": 4
}
